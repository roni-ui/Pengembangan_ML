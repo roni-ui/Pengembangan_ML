{
  "nbformat": 4,
  "nbformat_minor": 0,
  "metadata": {
    "accelerator": "GPU",
    "colab": {
      "name": "#4_submission_2_Membuat Model_ML_dgn_DataTimeSeries.ipynb",
      "provenance": [],
      "collapsed_sections": []
    },
    "kernelspec": {
      "display_name": "Python 3",
      "name": "python3"
    },
    "language_info": {
      "name": "python"
    }
  },
  "cells": [
    {
      "cell_type": "markdown",
      "metadata": {
        "id": "RBRB959SL5yr"
      },
      "source": [
        "# Proyek Kedua : Membuat Model ML dengan Date Time Series"
      ]
    },
    {
      "cell_type": "markdown",
      "metadata": {
        "id": "4rUzjRXyGIlo"
      },
      "source": [
        "**Hourly energy consumption time series LSTM**\n",
        "\n",
        "\n",
        "**Cecep Roni**\n"
      ]
    },
    {
      "cell_type": "markdown",
      "metadata": {
        "id": "qcz5AH4IGbKH"
      },
      "source": [
        "Dataset : https://www.kaggle.com/robikscube/hourly-energy-consumption"
      ]
    },
    {
      "cell_type": "code",
      "metadata": {
        "colab": {
          "base_uri": "https://localhost:8080/"
        },
        "id": "h7YwHgPxA6wg",
        "outputId": "17234801-7497-4ea3-a621-83e08c3638b0"
      },
      "source": [
        "from google.colab import drive\n",
        "drive.mount('/content/drive')"
      ],
      "execution_count": 1,
      "outputs": [
        {
          "output_type": "stream",
          "text": [
            "Mounted at /content/drive\n"
          ],
          "name": "stdout"
        }
      ]
    },
    {
      "cell_type": "code",
      "metadata": {
        "id": "3PYzFXZTJO5Q"
      },
      "source": [
        "import pandas as pd"
      ],
      "execution_count": 2,
      "outputs": []
    },
    {
      "cell_type": "code",
      "metadata": {
        "colab": {
          "base_uri": "https://localhost:8080/",
          "height": 204
        },
        "id": "rZg89vZmJopS",
        "outputId": "b66de008-616a-45b3-869e-5b8e3790463b"
      },
      "source": [
        "path = ('/content/drive/My Drive/Colab Notebooks/Dicoding_PengembanganML/Submission/HEC/COMED_hourly.csv')\n",
        "df = pd.read_csv(path)\n",
        "df.head()"
      ],
      "execution_count": 3,
      "outputs": [
        {
          "output_type": "execute_result",
          "data": {
            "text/html": [
              "<div>\n",
              "<style scoped>\n",
              "    .dataframe tbody tr th:only-of-type {\n",
              "        vertical-align: middle;\n",
              "    }\n",
              "\n",
              "    .dataframe tbody tr th {\n",
              "        vertical-align: top;\n",
              "    }\n",
              "\n",
              "    .dataframe thead th {\n",
              "        text-align: right;\n",
              "    }\n",
              "</style>\n",
              "<table border=\"1\" class=\"dataframe\">\n",
              "  <thead>\n",
              "    <tr style=\"text-align: right;\">\n",
              "      <th></th>\n",
              "      <th>Datetime</th>\n",
              "      <th>COMED_MW</th>\n",
              "    </tr>\n",
              "  </thead>\n",
              "  <tbody>\n",
              "    <tr>\n",
              "      <th>0</th>\n",
              "      <td>2011-12-31 01:00:00</td>\n",
              "      <td>9970.0</td>\n",
              "    </tr>\n",
              "    <tr>\n",
              "      <th>1</th>\n",
              "      <td>2011-12-31 02:00:00</td>\n",
              "      <td>9428.0</td>\n",
              "    </tr>\n",
              "    <tr>\n",
              "      <th>2</th>\n",
              "      <td>2011-12-31 03:00:00</td>\n",
              "      <td>9059.0</td>\n",
              "    </tr>\n",
              "    <tr>\n",
              "      <th>3</th>\n",
              "      <td>2011-12-31 04:00:00</td>\n",
              "      <td>8817.0</td>\n",
              "    </tr>\n",
              "    <tr>\n",
              "      <th>4</th>\n",
              "      <td>2011-12-31 05:00:00</td>\n",
              "      <td>8743.0</td>\n",
              "    </tr>\n",
              "  </tbody>\n",
              "</table>\n",
              "</div>"
            ],
            "text/plain": [
              "              Datetime  COMED_MW\n",
              "0  2011-12-31 01:00:00    9970.0\n",
              "1  2011-12-31 02:00:00    9428.0\n",
              "2  2011-12-31 03:00:00    9059.0\n",
              "3  2011-12-31 04:00:00    8817.0\n",
              "4  2011-12-31 05:00:00    8743.0"
            ]
          },
          "metadata": {
            "tags": []
          },
          "execution_count": 3
        }
      ]
    },
    {
      "cell_type": "code",
      "metadata": {
        "colab": {
          "base_uri": "https://localhost:8080/"
        },
        "id": "VXKsLCmQKpDi",
        "outputId": "0ba39b2b-4c22-4a20-ec17-bea9e749e26e"
      },
      "source": [
        "df.info()"
      ],
      "execution_count": 4,
      "outputs": [
        {
          "output_type": "stream",
          "text": [
            "<class 'pandas.core.frame.DataFrame'>\n",
            "RangeIndex: 66497 entries, 0 to 66496\n",
            "Data columns (total 2 columns):\n",
            " #   Column    Non-Null Count  Dtype  \n",
            "---  ------    --------------  -----  \n",
            " 0   Datetime  66497 non-null  object \n",
            " 1   COMED_MW  66497 non-null  float64\n",
            "dtypes: float64(1), object(1)\n",
            "memory usage: 1.0+ MB\n"
          ],
          "name": "stdout"
        }
      ]
    },
    {
      "cell_type": "code",
      "metadata": {
        "colab": {
          "base_uri": "https://localhost:8080/"
        },
        "id": "NRbDp-5wMqIc",
        "outputId": "1039e779-cdb3-4e78-962e-3227ec9a1fb1"
      },
      "source": [
        "df.shape"
      ],
      "execution_count": 5,
      "outputs": [
        {
          "output_type": "execute_result",
          "data": {
            "text/plain": [
              "(66497, 2)"
            ]
          },
          "metadata": {
            "tags": []
          },
          "execution_count": 5
        }
      ]
    },
    {
      "cell_type": "code",
      "metadata": {
        "colab": {
          "base_uri": "https://localhost:8080/",
          "height": 235
        },
        "id": "Ptshsqr2NXLt",
        "outputId": "ee4c1f04-7dcf-40bc-af14-2323e0e9032c"
      },
      "source": [
        "# Ubah index ke DateTime\n",
        "df = pd.read_csv(path, index_col='Datetime', parse_dates=['Datetime'])\n",
        "df.head()"
      ],
      "execution_count": 6,
      "outputs": [
        {
          "output_type": "execute_result",
          "data": {
            "text/html": [
              "<div>\n",
              "<style scoped>\n",
              "    .dataframe tbody tr th:only-of-type {\n",
              "        vertical-align: middle;\n",
              "    }\n",
              "\n",
              "    .dataframe tbody tr th {\n",
              "        vertical-align: top;\n",
              "    }\n",
              "\n",
              "    .dataframe thead th {\n",
              "        text-align: right;\n",
              "    }\n",
              "</style>\n",
              "<table border=\"1\" class=\"dataframe\">\n",
              "  <thead>\n",
              "    <tr style=\"text-align: right;\">\n",
              "      <th></th>\n",
              "      <th>COMED_MW</th>\n",
              "    </tr>\n",
              "    <tr>\n",
              "      <th>Datetime</th>\n",
              "      <th></th>\n",
              "    </tr>\n",
              "  </thead>\n",
              "  <tbody>\n",
              "    <tr>\n",
              "      <th>2011-12-31 01:00:00</th>\n",
              "      <td>9970.0</td>\n",
              "    </tr>\n",
              "    <tr>\n",
              "      <th>2011-12-31 02:00:00</th>\n",
              "      <td>9428.0</td>\n",
              "    </tr>\n",
              "    <tr>\n",
              "      <th>2011-12-31 03:00:00</th>\n",
              "      <td>9059.0</td>\n",
              "    </tr>\n",
              "    <tr>\n",
              "      <th>2011-12-31 04:00:00</th>\n",
              "      <td>8817.0</td>\n",
              "    </tr>\n",
              "    <tr>\n",
              "      <th>2011-12-31 05:00:00</th>\n",
              "      <td>8743.0</td>\n",
              "    </tr>\n",
              "  </tbody>\n",
              "</table>\n",
              "</div>"
            ],
            "text/plain": [
              "                     COMED_MW\n",
              "Datetime                     \n",
              "2011-12-31 01:00:00    9970.0\n",
              "2011-12-31 02:00:00    9428.0\n",
              "2011-12-31 03:00:00    9059.0\n",
              "2011-12-31 04:00:00    8817.0\n",
              "2011-12-31 05:00:00    8743.0"
            ]
          },
          "metadata": {
            "tags": []
          },
          "execution_count": 6
        }
      ]
    },
    {
      "cell_type": "code",
      "metadata": {
        "colab": {
          "base_uri": "https://localhost:8080/",
          "height": 241
        },
        "id": "TuWBH3IhQ5tz",
        "outputId": "add214c2-b569-4c80-c185-348428f7fc0b"
      },
      "source": [
        "# Visualisasi dataset\n",
        "import matplotlib.pyplot as plt\n",
        "\n",
        "plt.figure(figsize=(15,3))\n",
        "plt.plot(df)\n",
        "plt.title('COMED_MW hourly power consumption data')\n",
        "plt.xlabel('Date')\n",
        "plt.ylabel('Mega Watt (MW)')\n",
        "plt.show()"
      ],
      "execution_count": 7,
      "outputs": [
        {
          "output_type": "display_data",
          "data": {
            "image/png": "[encoded data removed]",
            "text/plain": [
              "<Figure size 1080x216 with 1 Axes>"
            ]
          },
          "metadata": {
            "tags": [],
            "needs_background": "light"
          }
        }
      ]
    },
    {
      "cell_type": "markdown",
      "metadata": {
        "id": "IzkmHDexnHbl"
      },
      "source": [
        "Model dan plot"
      ]
    },
    {
      "cell_type": "code",
      "metadata": {
        "id": "xB3rXXjCoQLL"
      },
      "source": [
        "# get data values\n",
        "datetime = df.index.values\n",
        "mw = df['COMED_MW'].values"
      ],
      "execution_count": 8,
      "outputs": []
    },
    {
      "cell_type": "code",
      "metadata": {
        "id": "R2YzP_riqPz0"
      },
      "source": [
        "import tensorflow as tf\n",
        "\n",
        "def windowed_dataset(series, window_size, batch_size, shuffle_buffer):\n",
        "    series = tf.expand_dims(series, axis=-1)\n",
        "    ds = tf.data.Dataset.from_tensor_slices(series)\n",
        "    ds = ds.window(window_size + 1, shift=1, drop_remainder=True)\n",
        "    ds = ds.flat_map(lambda w: w.batch(window_size + 1))\n",
        "    ds = ds.shuffle(shuffle_buffer)\n",
        "    ds = ds.map(lambda w: (w[:-1], w[-1:]))\n",
        "    return ds.batch(batch_size).prefetch(1)"
      ],
      "execution_count": 9,
      "outputs": []
    },
    {
      "cell_type": "code",
      "metadata": {
        "colab": {
          "base_uri": "https://localhost:8080/"
        },
        "id": "7Q9AerL71cUI",
        "outputId": "3b487c4b-c316-4566-c4cd-a11084d28191"
      },
      "source": [
        "# Dataset train dan test\n",
        "from sklearn.model_selection import train_test_split\n",
        "\n",
        "x_train, x_test, y_train, y_test = train_test_split(mw, datetime, test_size = 0.2, random_state = 0 , shuffle=False)\n",
        "print(len(x_train), len(x_test))"
      ],
      "execution_count": 10,
      "outputs": [
        {
          "output_type": "stream",
          "text": [
            "53197 13300\n"
          ],
          "name": "stdout"
        }
      ]
    },
    {
      "cell_type": "code",
      "metadata": {
        "id": "GL37se4k1dKc"
      },
      "source": [
        "# model\n",
        "from keras.layers import Dense, LSTM\n",
        "\n",
        "train_set = windowed_dataset(x_train, window_size=60, batch_size=100, shuffle_buffer=5000)\n",
        "test_set = windowed_dataset(x_test, window_size=60, batch_size=100, shuffle_buffer=5000)\n",
        "\n",
        "model = tf.keras.models.Sequential([\n",
        "  tf.keras.layers.Conv1D(filters=32, kernel_size=5,\n",
        "                      strides=1, padding=\"causal\",\n",
        "                      activation=\"relu\",\n",
        "                      input_shape=[None, 1]),\n",
        "  tf.keras.layers.LSTM(65, return_sequences=True),\n",
        "  tf.keras.layers.LSTM(65, return_sequences=True),\n",
        "  tf.keras.layers.Dense(30, activation=\"relu\"),\n",
        "  tf.keras.layers.Dense(10, activation=\"relu\"),\n",
        "  tf.keras.layers.Dense(1),\n",
        "  tf.keras.layers.Lambda(lambda x: x * 400)\n",
        "])"
      ],
      "execution_count": 11,
      "outputs": []
    },
    {
      "cell_type": "code",
      "metadata": {
        "id": "LU1rK4a213Hn"
      },
      "source": [
        "lr_schedule = tf.keras.callbacks.LearningRateScheduler(\n",
        "    lambda epoch: 1e-8 * 10**(epoch / 20))\n",
        "optimizer = tf.keras.optimizers.SGD(learning_rate=1e-8, momentum=0.9)\n",
        "model.compile(loss=tf.keras.losses.Huber(),\n",
        "              optimizer=optimizer,\n",
        "              metrics=[\"mae\"])"
      ],
      "execution_count": 12,
      "outputs": []
    },
    {
      "cell_type": "code",
      "metadata": {
        "colab": {
          "base_uri": "https://localhost:8080/"
        },
        "id": "fycKknJk5SeI",
        "outputId": "d7a5e1a7-73eb-41c6-e8cc-ef1b6615f2d3"
      },
      "source": [
        "nilai_maks = df['COMED_MW'].max()\n",
        "print('Nilai maksimal : ' )\n",
        "print(nilai_maks)"
      ],
      "execution_count": 13,
      "outputs": [
        {
          "output_type": "stream",
          "text": [
            "Nilai maksimal : \n",
            "23753.0\n"
          ],
          "name": "stdout"
        }
      ]
    },
    {
      "cell_type": "code",
      "metadata": {
        "colab": {
          "base_uri": "https://localhost:8080/"
        },
        "id": "dglcq4v_5dW8",
        "outputId": "979d9d43-b6ce-4ead-eb9d-97acd9609672"
      },
      "source": [
        "nilai_min = df['COMED_MW'].min()\n",
        "print('Nilai minimal : ' )\n",
        "print(nilai_min)"
      ],
      "execution_count": 14,
      "outputs": [
        {
          "output_type": "stream",
          "text": [
            "Nilai minimal : \n",
            "7237.0\n"
          ],
          "name": "stdout"
        }
      ]
    },
    {
      "cell_type": "code",
      "metadata": {
        "colab": {
          "base_uri": "https://localhost:8080/"
        },
        "id": "zPlsqedF5tX6",
        "outputId": "9c0c3fe9-97fe-48da-d787-7fec1972832b"
      },
      "source": [
        "x = (nilai_maks - nilai_min) * (10 / 100)\n",
        "print(x)"
      ],
      "execution_count": 15,
      "outputs": [
        {
          "output_type": "stream",
          "text": [
            "1651.6000000000001\n"
          ],
          "name": "stdout"
        }
      ]
    },
    {
      "cell_type": "code",
      "metadata": {
        "id": "V39AGAYj54AB"
      },
      "source": [
        "# callback\n",
        "class Call(tf.keras.callbacks.Callback):\n",
        "  def on_epoch_end(self, epoch, logs={}):\n",
        "    if(logs.get('mae') < x):\n",
        "      self.model.stop_training = True\n",
        "      print(\"\\nNilai MAE < 10% dari skala data\")\n",
        "callbacks = Call()"
      ],
      "execution_count": 16,
      "outputs": []
    },
    {
      "cell_type": "code",
      "metadata": {
        "colab": {
          "base_uri": "https://localhost:8080/"
        },
        "id": "UKOCufSE6F6a",
        "outputId": "4d911626-430b-4e19-8fed-5c6382de992d"
      },
      "source": [
        "tf.keras.backend.set_floatx('float64')\n",
        "history = model.fit(train_set ,epochs=900, validation_data=test_set, callbacks=[callbacks])"
      ],
      "execution_count": 17,
      "outputs": [
        {
          "output_type": "stream",
          "text": [
            "Epoch 1/900\n",
            "532/532 [==============================] - 49s 27ms/step - loss: 11448.6240 - mae: 11449.1202 - val_loss: 11095.5215 - val_mae: 11096.0213\n",
            "Epoch 2/900\n",
            "532/532 [==============================] - 12s 22ms/step - loss: 11344.0781 - mae: 11344.5813 - val_loss: 11015.6426 - val_mae: 11016.1396\n",
            "Epoch 3/900\n",
            "532/532 [==============================] - 12s 22ms/step - loss: 11276.5381 - mae: 11277.0354 - val_loss: 10949.5654 - val_mae: 10950.0666\n",
            "Epoch 4/900\n",
            "532/532 [==============================] - 12s 22ms/step - loss: 11210.5459 - mae: 11211.0532 - val_loss: 10883.1133 - val_mae: 10883.6086\n",
            "Epoch 5/900\n",
            "532/532 [==============================] - 12s 22ms/step - loss: 11139.8281 - mae: 11140.3308 - val_loss: 10806.7227 - val_mae: 10807.2252\n",
            "Epoch 6/900\n",
            "532/532 [==============================] - 12s 22ms/step - loss: 11056.1445 - mae: 11056.6446 - val_loss: 10714.8691 - val_mae: 10715.3688\n",
            "Epoch 7/900\n",
            "532/532 [==============================] - 12s 22ms/step - loss: 10954.1982 - mae: 10954.6941 - val_loss: 10601.5078 - val_mae: 10602.0090\n",
            "Epoch 8/900\n",
            "532/532 [==============================] - 12s 22ms/step - loss: 10826.4619 - mae: 10826.9660 - val_loss: 10457.6201 - val_mae: 10458.1214\n",
            "Epoch 9/900\n",
            "532/532 [==============================] - 12s 22ms/step - loss: 10662.4229 - mae: 10662.9200 - val_loss: 10270.7188 - val_mae: 10271.2187\n",
            "Epoch 10/900\n",
            "532/532 [==============================] - 13s 23ms/step - loss: 10445.9414 - mae: 10446.4379 - val_loss: 10020.0479 - val_mae: 10020.5493\n",
            "Epoch 11/900\n",
            "532/532 [==============================] - 12s 22ms/step - loss: 10151.4502 - mae: 10151.9448 - val_loss: 9674.9619 - val_mae: 9675.4601\n",
            "Epoch 12/900\n",
            "532/532 [==============================] - 13s 23ms/step - loss: 9731.6377 - mae: 9732.1350 - val_loss: 9165.3535 - val_mae: 9165.8543\n",
            "Epoch 13/900\n",
            "532/532 [==============================] - 12s 22ms/step - loss: 9112.9766 - mae: 9113.4743 - val_loss: 8419.9863 - val_mae: 8420.4869\n",
            "Epoch 14/900\n",
            "532/532 [==============================] - 13s 23ms/step - loss: 8178.8447 - mae: 8179.3415 - val_loss: 7252.8247 - val_mae: 7253.3230\n",
            "Epoch 15/900\n",
            "532/532 [==============================] - 13s 23ms/step - loss: 6652.4355 - mae: 6652.9366 - val_loss: 5268.9038 - val_mae: 5269.4031\n",
            "Epoch 16/900\n",
            "532/532 [==============================] - 12s 22ms/step - loss: 4069.7036 - mae: 4070.2051 - val_loss: 2505.1235 - val_mae: 2505.6236\n",
            "Epoch 17/900\n",
            "532/532 [==============================] - 13s 23ms/step - loss: 2402.9607 - mae: 2403.4621 - val_loss: 2180.8738 - val_mae: 2181.3742\n",
            "Epoch 18/900\n",
            "532/532 [==============================] - 12s 22ms/step - loss: 2266.3821 - mae: 2266.8825 - val_loss: 2152.9209 - val_mae: 2153.4209\n",
            "Epoch 19/900\n",
            "532/532 [==============================] - 13s 23ms/step - loss: 2232.3662 - mae: 2232.8669 - val_loss: 2126.0605 - val_mae: 2126.5609\n",
            "Epoch 20/900\n",
            "532/532 [==============================] - 13s 23ms/step - loss: 2162.6235 - mae: 2163.1245 - val_loss: 2054.8660 - val_mae: 2055.3662\n",
            "Epoch 21/900\n",
            "532/532 [==============================] - 13s 23ms/step - loss: 2138.4436 - mae: 2138.9434 - val_loss: 2043.5533 - val_mae: 2044.0532\n",
            "Epoch 22/900\n",
            "532/532 [==============================] - 12s 22ms/step - loss: 2127.6833 - mae: 2128.1831 - val_loss: 2033.4159 - val_mae: 2033.9158\n",
            "Epoch 23/900\n",
            "532/532 [==============================] - 13s 23ms/step - loss: 2116.3125 - mae: 2116.8116 - val_loss: 2014.4438 - val_mae: 2014.9438\n",
            "Epoch 24/900\n",
            "532/532 [==============================] - 12s 22ms/step - loss: 2100.7485 - mae: 2101.2490 - val_loss: 1996.2333 - val_mae: 1996.7328\n",
            "Epoch 25/900\n",
            "532/532 [==============================] - 13s 23ms/step - loss: 2085.8635 - mae: 2086.3645 - val_loss: 1992.0997 - val_mae: 1992.5997\n",
            "Epoch 26/900\n",
            "532/532 [==============================] - 12s 22ms/step - loss: 2075.6743 - mae: 2076.1731 - val_loss: 1982.3632 - val_mae: 1982.8629\n",
            "Epoch 27/900\n",
            "532/532 [==============================] - 13s 23ms/step - loss: 2068.5215 - mae: 2069.0218 - val_loss: 1975.4198 - val_mae: 1975.9196\n",
            "Epoch 28/900\n",
            "532/532 [==============================] - 13s 24ms/step - loss: 2060.5122 - mae: 2061.0109 - val_loss: 1967.9404 - val_mae: 1968.4408\n",
            "Epoch 29/900\n",
            "532/532 [==============================] - 13s 23ms/step - loss: 2053.3455 - mae: 2053.8454 - val_loss: 1960.6959 - val_mae: 1961.1959\n",
            "Epoch 30/900\n",
            "532/532 [==============================] - 13s 23ms/step - loss: 2042.2104 - mae: 2042.7111 - val_loss: 1948.4906 - val_mae: 1948.9903\n",
            "Epoch 31/900\n",
            "532/532 [==============================] - 13s 24ms/step - loss: 2033.3378 - mae: 2033.8385 - val_loss: 1941.8147 - val_mae: 1942.3138\n",
            "Epoch 32/900\n",
            "532/532 [==============================] - 12s 22ms/step - loss: 2025.5345 - mae: 2026.0344 - val_loss: 1932.3761 - val_mae: 1932.8769\n",
            "Epoch 33/900\n",
            "532/532 [==============================] - 12s 22ms/step - loss: 2017.0787 - mae: 2017.5785 - val_loss: 1926.3354 - val_mae: 1926.8358\n",
            "Epoch 34/900\n",
            "532/532 [==============================] - 13s 24ms/step - loss: 2010.8917 - mae: 2011.3909 - val_loss: 1920.2562 - val_mae: 1920.7558\n",
            "Epoch 35/900\n",
            "532/532 [==============================] - 13s 23ms/step - loss: 2004.3785 - mae: 2004.8777 - val_loss: 1914.1322 - val_mae: 1914.6319\n",
            "Epoch 36/900\n",
            "532/532 [==============================] - 12s 22ms/step - loss: 1998.3889 - mae: 1998.8891 - val_loss: 1910.2655 - val_mae: 1910.7657\n",
            "Epoch 37/900\n",
            "532/532 [==============================] - 13s 24ms/step - loss: 1992.8854 - mae: 1993.3853 - val_loss: 1903.3461 - val_mae: 1903.8459\n",
            "Epoch 38/900\n",
            "532/532 [==============================] - 12s 22ms/step - loss: 1987.6919 - mae: 1988.1916 - val_loss: 1898.4583 - val_mae: 1898.9579\n",
            "Epoch 39/900\n",
            "532/532 [==============================] - 13s 23ms/step - loss: 1982.2296 - mae: 1982.7299 - val_loss: 1893.7072 - val_mae: 1894.2075\n",
            "Epoch 40/900\n",
            "532/532 [==============================] - 13s 23ms/step - loss: 1977.1415 - mae: 1977.6412 - val_loss: 1888.6633 - val_mae: 1889.1633\n",
            "Epoch 41/900\n",
            "532/532 [==============================] - 12s 22ms/step - loss: 1972.4211 - mae: 1972.9217 - val_loss: 1883.8346 - val_mae: 1884.3349\n",
            "Epoch 42/900\n",
            "532/532 [==============================] - 13s 23ms/step - loss: 1968.0095 - mae: 1968.5096 - val_loss: 1878.8206 - val_mae: 1879.3198\n",
            "Epoch 43/900\n",
            "532/532 [==============================] - 13s 23ms/step - loss: 1963.4198 - mae: 1963.9183 - val_loss: 1873.9650 - val_mae: 1874.4648\n",
            "Epoch 44/900\n",
            "532/532 [==============================] - 13s 23ms/step - loss: 1959.0741 - mae: 1959.5743 - val_loss: 1869.3958 - val_mae: 1869.8963\n",
            "Epoch 45/900\n",
            "532/532 [==============================] - 13s 23ms/step - loss: 1953.8696 - mae: 1954.3696 - val_loss: 1865.6667 - val_mae: 1866.1664\n",
            "Epoch 46/900\n",
            "532/532 [==============================] - 13s 23ms/step - loss: 1950.0344 - mae: 1950.5333 - val_loss: 1860.4506 - val_mae: 1860.9501\n",
            "Epoch 47/900\n",
            "532/532 [==============================] - 13s 23ms/step - loss: 1945.3964 - mae: 1945.8954 - val_loss: 1856.3125 - val_mae: 1856.8120\n",
            "Epoch 48/900\n",
            "532/532 [==============================] - 12s 22ms/step - loss: 1943.2056 - mae: 1943.7057 - val_loss: 1851.8550 - val_mae: 1852.3546\n",
            "Epoch 49/900\n",
            "532/532 [==============================] - 13s 23ms/step - loss: 1935.4517 - mae: 1935.9518 - val_loss: 1847.4674 - val_mae: 1847.9670\n",
            "Epoch 50/900\n",
            "532/532 [==============================] - 13s 23ms/step - loss: 1930.8551 - mae: 1931.3568 - val_loss: 1842.8064 - val_mae: 1843.3061\n",
            "Epoch 51/900\n",
            "532/532 [==============================] - 13s 23ms/step - loss: 1926.8805 - mae: 1927.3812 - val_loss: 1839.9960 - val_mae: 1840.4960\n",
            "Epoch 52/900\n",
            "532/532 [==============================] - 12s 22ms/step - loss: 1923.2766 - mae: 1923.7776 - val_loss: 1836.3875 - val_mae: 1836.8879\n",
            "Epoch 53/900\n",
            "532/532 [==============================] - 13s 23ms/step - loss: 1918.1664 - mae: 1918.6665 - val_loss: 1830.1775 - val_mae: 1830.6776\n",
            "Epoch 54/900\n",
            "532/532 [==============================] - 13s 23ms/step - loss: 1914.5331 - mae: 1915.0326 - val_loss: 1826.6787 - val_mae: 1827.1786\n",
            "Epoch 55/900\n",
            "532/532 [==============================] - 13s 23ms/step - loss: 1909.4547 - mae: 1909.9549 - val_loss: 1822.0624 - val_mae: 1822.5625\n",
            "Epoch 56/900\n",
            "532/532 [==============================] - 12s 22ms/step - loss: 1905.6615 - mae: 1906.1622 - val_loss: 1817.4578 - val_mae: 1817.9573\n",
            "Epoch 57/900\n",
            "532/532 [==============================] - 12s 23ms/step - loss: 1902.0186 - mae: 1902.5195 - val_loss: 1816.0790 - val_mae: 1816.5791\n",
            "Epoch 58/900\n",
            "532/532 [==============================] - 13s 23ms/step - loss: 1897.4189 - mae: 1897.9191 - val_loss: 1810.3201 - val_mae: 1810.8202\n",
            "Epoch 59/900\n",
            "532/532 [==============================] - 13s 23ms/step - loss: 1894.2281 - mae: 1894.7282 - val_loss: 1808.0923 - val_mae: 1808.5930\n",
            "Epoch 60/900\n",
            "532/532 [==============================] - 13s 23ms/step - loss: 1889.5530 - mae: 1890.0535 - val_loss: 1803.9637 - val_mae: 1804.4633\n",
            "Epoch 61/900\n",
            "532/532 [==============================] - 13s 24ms/step - loss: 1886.6616 - mae: 1887.1610 - val_loss: 1800.7030 - val_mae: 1801.2031\n",
            "Epoch 62/900\n",
            "532/532 [==============================] - 13s 23ms/step - loss: 1883.6089 - mae: 1884.1096 - val_loss: 1794.7462 - val_mae: 1795.2463\n",
            "Epoch 63/900\n",
            "532/532 [==============================] - 13s 23ms/step - loss: 1881.1064 - mae: 1881.6066 - val_loss: 1794.4695 - val_mae: 1794.9695\n",
            "Epoch 64/900\n",
            "532/532 [==============================] - 13s 23ms/step - loss: 1877.8481 - mae: 1878.3470 - val_loss: 1790.0707 - val_mae: 1790.5711\n",
            "Epoch 65/900\n",
            "532/532 [==============================] - 13s 23ms/step - loss: 1873.9670 - mae: 1874.4665 - val_loss: 1786.8633 - val_mae: 1787.3633\n",
            "Epoch 66/900\n",
            "532/532 [==============================] - 13s 24ms/step - loss: 1871.4407 - mae: 1871.9410 - val_loss: 1783.9249 - val_mae: 1784.4250\n",
            "Epoch 67/900\n",
            "532/532 [==============================] - 13s 24ms/step - loss: 1867.0491 - mae: 1867.5487 - val_loss: 1781.6624 - val_mae: 1782.1623\n",
            "Epoch 68/900\n",
            "532/532 [==============================] - 13s 23ms/step - loss: 1863.3273 - mae: 1863.8274 - val_loss: 1778.2855 - val_mae: 1778.7858\n",
            "Epoch 69/900\n",
            "532/532 [==============================] - 13s 24ms/step - loss: 1860.9456 - mae: 1861.4452 - val_loss: 1784.1782 - val_mae: 1784.6779\n",
            "Epoch 70/900\n",
            "532/532 [==============================] - 13s 23ms/step - loss: 1856.9922 - mae: 1857.4916 - val_loss: 1770.6360 - val_mae: 1771.1361\n",
            "Epoch 71/900\n",
            "532/532 [==============================] - 13s 23ms/step - loss: 1854.3998 - mae: 1854.8998 - val_loss: 1770.9225 - val_mae: 1771.4223\n",
            "Epoch 72/900\n",
            "532/532 [==============================] - 13s 24ms/step - loss: 1850.8269 - mae: 1851.3278 - val_loss: 1766.0790 - val_mae: 1766.5792\n",
            "Epoch 73/900\n",
            "532/532 [==============================] - 13s 23ms/step - loss: 1847.9115 - mae: 1848.4109 - val_loss: 1763.9264 - val_mae: 1764.4265\n",
            "Epoch 74/900\n",
            "532/532 [==============================] - 13s 23ms/step - loss: 1845.7366 - mae: 1846.2359 - val_loss: 1762.1865 - val_mae: 1762.6864\n",
            "Epoch 75/900\n",
            "532/532 [==============================] - 13s 23ms/step - loss: 1844.1573 - mae: 1844.6578 - val_loss: 1758.7263 - val_mae: 1759.2262\n",
            "Epoch 76/900\n",
            "532/532 [==============================] - 12s 22ms/step - loss: 1842.0951 - mae: 1842.5964 - val_loss: 1766.1261 - val_mae: 1766.6262\n",
            "Epoch 77/900\n",
            "532/532 [==============================] - 13s 23ms/step - loss: 1837.5714 - mae: 1838.0719 - val_loss: 1750.6520 - val_mae: 1751.1519\n",
            "Epoch 78/900\n",
            "532/532 [==============================] - 13s 23ms/step - loss: 1835.8041 - mae: 1836.3039 - val_loss: 1749.0338 - val_mae: 1749.5342\n",
            "Epoch 79/900\n",
            "532/532 [==============================] - 13s 23ms/step - loss: 1832.2522 - mae: 1832.7523 - val_loss: 1748.8169 - val_mae: 1749.3168\n",
            "Epoch 80/900\n",
            "532/532 [==============================] - 13s 23ms/step - loss: 1830.3296 - mae: 1830.8297 - val_loss: 1740.3041 - val_mae: 1740.8039\n",
            "Epoch 81/900\n",
            "532/532 [==============================] - 13s 23ms/step - loss: 1828.8328 - mae: 1829.3327 - val_loss: 1742.3380 - val_mae: 1742.8378\n",
            "Epoch 82/900\n",
            "532/532 [==============================] - 13s 23ms/step - loss: 1826.2142 - mae: 1826.7151 - val_loss: 1740.4041 - val_mae: 1740.9045\n",
            "Epoch 83/900\n",
            "532/532 [==============================] - 13s 23ms/step - loss: 1824.4446 - mae: 1824.9445 - val_loss: 1741.1836 - val_mae: 1741.6833\n",
            "Epoch 84/900\n",
            "532/532 [==============================] - 13s 23ms/step - loss: 1820.7849 - mae: 1821.2854 - val_loss: 1737.8418 - val_mae: 1738.3419\n",
            "Epoch 85/900\n",
            "532/532 [==============================] - 13s 23ms/step - loss: 1817.6582 - mae: 1818.1588 - val_loss: 1737.1895 - val_mae: 1737.6892\n",
            "Epoch 86/900\n",
            "532/532 [==============================] - 13s 23ms/step - loss: 1816.1553 - mae: 1816.6548 - val_loss: 1742.9840 - val_mae: 1743.4838\n",
            "Epoch 87/900\n",
            "532/532 [==============================] - 12s 22ms/step - loss: 1814.5573 - mae: 1815.0569 - val_loss: 1729.8834 - val_mae: 1730.3834\n",
            "Epoch 88/900\n",
            "532/532 [==============================] - 13s 23ms/step - loss: 1813.0399 - mae: 1813.5401 - val_loss: 1733.0498 - val_mae: 1733.5502\n",
            "Epoch 89/900\n",
            "532/532 [==============================] - 12s 22ms/step - loss: 1812.2666 - mae: 1812.7666 - val_loss: 1727.0823 - val_mae: 1727.5827\n",
            "Epoch 90/900\n",
            "532/532 [==============================] - 13s 23ms/step - loss: 1807.0182 - mae: 1807.5184 - val_loss: 1722.7990 - val_mae: 1723.2986\n",
            "Epoch 91/900\n",
            "532/532 [==============================] - 13s 23ms/step - loss: 1807.2340 - mae: 1807.7342 - val_loss: 1722.1195 - val_mae: 1722.6196\n",
            "Epoch 92/900\n",
            "532/532 [==============================] - 13s 24ms/step - loss: 1805.0244 - mae: 1805.5247 - val_loss: 1726.3870 - val_mae: 1726.8868\n",
            "Epoch 93/900\n",
            "532/532 [==============================] - 13s 24ms/step - loss: 1804.9152 - mae: 1805.4141 - val_loss: 1726.3015 - val_mae: 1726.8021\n",
            "Epoch 94/900\n",
            "532/532 [==============================] - 14s 25ms/step - loss: 1801.2728 - mae: 1801.7734 - val_loss: 1715.1521 - val_mae: 1715.6520\n",
            "Epoch 95/900\n",
            "532/532 [==============================] - 13s 23ms/step - loss: 1799.2953 - mae: 1799.7951 - val_loss: 1715.9432 - val_mae: 1716.4433\n",
            "Epoch 96/900\n",
            "532/532 [==============================] - 13s 23ms/step - loss: 1801.1807 - mae: 1801.6807 - val_loss: 1740.2310 - val_mae: 1740.7303\n",
            "Epoch 97/900\n",
            "532/532 [==============================] - 13s 23ms/step - loss: 1800.8047 - mae: 1801.3046 - val_loss: 1712.0667 - val_mae: 1712.5664\n",
            "Epoch 98/900\n",
            "532/532 [==============================] - 13s 23ms/step - loss: 1793.6919 - mae: 1794.1920 - val_loss: 1713.0967 - val_mae: 1713.5967\n",
            "Epoch 99/900\n",
            "532/532 [==============================] - 13s 23ms/step - loss: 1792.6335 - mae: 1793.1337 - val_loss: 1712.2902 - val_mae: 1712.7901\n",
            "Epoch 100/900\n",
            "532/532 [==============================] - 13s 23ms/step - loss: 1791.4618 - mae: 1791.9613 - val_loss: 1712.5491 - val_mae: 1713.0487\n",
            "Epoch 101/900\n",
            "532/532 [==============================] - 13s 23ms/step - loss: 1792.9329 - mae: 1793.4329 - val_loss: 1714.1965 - val_mae: 1714.6970\n",
            "Epoch 102/900\n",
            "532/532 [==============================] - 13s 23ms/step - loss: 1787.4431 - mae: 1787.9432 - val_loss: 1708.8507 - val_mae: 1709.3511\n",
            "Epoch 103/900\n",
            "532/532 [==============================] - 13s 23ms/step - loss: 1787.0571 - mae: 1787.5568 - val_loss: 1700.9283 - val_mae: 1701.4283\n",
            "Epoch 104/900\n",
            "532/532 [==============================] - 13s 24ms/step - loss: 1784.9786 - mae: 1785.4780 - val_loss: 1703.0908 - val_mae: 1703.5902\n",
            "Epoch 105/900\n",
            "532/532 [==============================] - 13s 23ms/step - loss: 1787.5865 - mae: 1788.0865 - val_loss: 1701.4059 - val_mae: 1701.9060\n",
            "Epoch 106/900\n",
            "532/532 [==============================] - 13s 23ms/step - loss: 1778.2903 - mae: 1778.7910 - val_loss: 1703.5103 - val_mae: 1704.0097\n",
            "Epoch 107/900\n",
            "532/532 [==============================] - 13s 23ms/step - loss: 1776.8014 - mae: 1777.3004 - val_loss: 1694.8811 - val_mae: 1695.3806\n",
            "Epoch 108/900\n",
            "532/532 [==============================] - 13s 23ms/step - loss: 1777.2189 - mae: 1777.7186 - val_loss: 1709.4336 - val_mae: 1709.9336\n",
            "Epoch 109/900\n",
            "532/532 [==============================] - 13s 23ms/step - loss: 1771.1615 - mae: 1771.6615 - val_loss: 1690.4674 - val_mae: 1690.9673\n",
            "Epoch 110/900\n",
            "532/532 [==============================] - 13s 23ms/step - loss: 1771.4579 - mae: 1771.9584 - val_loss: 1681.0780 - val_mae: 1681.5781\n",
            "Epoch 111/900\n",
            "532/532 [==============================] - 13s 23ms/step - loss: 1769.7012 - mae: 1770.2016 - val_loss: 1684.6968 - val_mae: 1685.1969\n",
            "Epoch 112/900\n",
            "532/532 [==============================] - 13s 23ms/step - loss: 1767.2314 - mae: 1767.7333 - val_loss: 1683.7466 - val_mae: 1684.2463\n",
            "Epoch 113/900\n",
            "532/532 [==============================] - 13s 23ms/step - loss: 1772.3125 - mae: 1772.8132 - val_loss: 1684.9858 - val_mae: 1685.4860\n",
            "Epoch 114/900\n",
            "532/532 [==============================] - 13s 23ms/step - loss: 1773.0189 - mae: 1773.5191 - val_loss: 1676.4899 - val_mae: 1676.9903\n",
            "Epoch 115/900\n",
            "532/532 [==============================] - 13s 23ms/step - loss: 1768.3260 - mae: 1768.8263 - val_loss: 1690.8799 - val_mae: 1691.3799\n",
            "Epoch 116/900\n",
            "532/532 [==============================] - 13s 23ms/step - loss: 1764.3143 - mae: 1764.8156 - val_loss: 1676.2195 - val_mae: 1676.7196\n",
            "Epoch 117/900\n",
            "532/532 [==============================] - 13s 23ms/step - loss: 1760.2405 - mae: 1760.7400 - val_loss: 1677.1156 - val_mae: 1677.6153\n",
            "Epoch 118/900\n",
            "532/532 [==============================] - 13s 24ms/step - loss: 1765.7126 - mae: 1766.2118 - val_loss: 1674.7869 - val_mae: 1675.2868\n",
            "Epoch 119/900\n",
            "532/532 [==============================] - 13s 24ms/step - loss: 1759.5916 - mae: 1760.0925 - val_loss: 1669.5256 - val_mae: 1670.0258\n",
            "Epoch 120/900\n",
            "532/532 [==============================] - 13s 24ms/step - loss: 1757.9670 - mae: 1758.4664 - val_loss: 1673.4745 - val_mae: 1673.9740\n",
            "Epoch 121/900\n",
            "532/532 [==============================] - 13s 24ms/step - loss: 1759.2858 - mae: 1759.7853 - val_loss: 1672.4982 - val_mae: 1672.9982\n",
            "Epoch 122/900\n",
            "532/532 [==============================] - 13s 24ms/step - loss: 1755.9236 - mae: 1756.4232 - val_loss: 1671.4594 - val_mae: 1671.9597\n",
            "Epoch 123/900\n",
            "532/532 [==============================] - 13s 24ms/step - loss: 1755.2745 - mae: 1755.7743 - val_loss: 1665.0612 - val_mae: 1665.5605\n",
            "Epoch 124/900\n",
            "532/532 [==============================] - 13s 24ms/step - loss: 1753.1112 - mae: 1753.6109 - val_loss: 1675.9731 - val_mae: 1676.4732\n",
            "Epoch 125/900\n",
            "532/532 [==============================] - 13s 24ms/step - loss: 1752.9602 - mae: 1753.4598 - val_loss: 1662.9559 - val_mae: 1663.4555\n",
            "Epoch 126/900\n",
            "532/532 [==============================] - 13s 24ms/step - loss: 1756.9921 - mae: 1757.4917 - val_loss: 1666.8131 - val_mae: 1667.3131\n",
            "Epoch 127/900\n",
            "532/532 [==============================] - 13s 24ms/step - loss: 1753.3755 - mae: 1753.8761 - val_loss: 1677.3837 - val_mae: 1677.8837\n",
            "Epoch 128/900\n",
            "532/532 [==============================] - 13s 24ms/step - loss: 1749.3832 - mae: 1749.8842 - val_loss: 1664.9645 - val_mae: 1665.4643\n",
            "Epoch 129/900\n",
            "532/532 [==============================] - 13s 24ms/step - loss: 1747.7378 - mae: 1748.2379 - val_loss: 1666.9913 - val_mae: 1667.4914\n",
            "Epoch 130/900\n",
            "532/532 [==============================] - 13s 23ms/step - loss: 1745.3026 - mae: 1745.8031 - val_loss: 1668.6133 - val_mae: 1669.1130\n",
            "Epoch 131/900\n",
            "532/532 [==============================] - 13s 24ms/step - loss: 1742.6351 - mae: 1743.1352 - val_loss: 1663.6674 - val_mae: 1664.1676\n",
            "Epoch 132/900\n",
            "532/532 [==============================] - 13s 24ms/step - loss: 1739.9751 - mae: 1740.4741 - val_loss: 1656.8135 - val_mae: 1657.3136\n",
            "Epoch 133/900\n",
            "532/532 [==============================] - 13s 24ms/step - loss: 1739.0975 - mae: 1739.5965 - val_loss: 1652.7163 - val_mae: 1653.2162\n",
            "Epoch 134/900\n",
            "532/532 [==============================] - 13s 24ms/step - loss: 1732.3087 - mae: 1732.8091 - val_loss: 1651.6722 - val_mae: 1652.1724\n",
            "Epoch 135/900\n",
            "532/532 [==============================] - 14s 25ms/step - loss: 1725.5426 - mae: 1726.0418 - val_loss: 1640.8951 - val_mae: 1641.3956\n",
            "Epoch 136/900\n",
            "532/532 [==============================] - 13s 24ms/step - loss: 1718.9463 - mae: 1719.4456 - val_loss: 1639.2053 - val_mae: 1639.7057\n",
            "Epoch 137/900\n",
            "532/532 [==============================] - 13s 24ms/step - loss: 1711.5856 - mae: 1712.0844 - val_loss: 1619.4001 - val_mae: 1619.8999\n",
            "Epoch 138/900\n",
            "532/532 [==============================] - 13s 23ms/step - loss: 1706.1819 - mae: 1706.6813 - val_loss: 1624.7698 - val_mae: 1625.2698\n",
            "Epoch 139/900\n",
            "532/532 [==============================] - 13s 24ms/step - loss: 1701.0754 - mae: 1701.5758 - val_loss: 1625.2828 - val_mae: 1625.7830\n",
            "Epoch 140/900\n",
            "532/532 [==============================] - 13s 24ms/step - loss: 1685.8119 - mae: 1686.3106 - val_loss: 1617.1274 - val_mae: 1617.6274\n",
            "Epoch 141/900\n",
            "532/532 [==============================] - 13s 24ms/step - loss: 1679.8059 - mae: 1680.3054 - val_loss: 1589.1882 - val_mae: 1589.6884\n",
            "Epoch 142/900\n",
            "532/532 [==============================] - 13s 23ms/step - loss: 1673.4670 - mae: 1673.9673 - val_loss: 1604.4375 - val_mae: 1604.9372\n",
            "Epoch 143/900\n",
            "532/532 [==============================] - 13s 24ms/step - loss: 1668.7869 - mae: 1669.2869 - val_loss: 1594.3632 - val_mae: 1594.8629\n",
            "Epoch 144/900\n",
            "532/532 [==============================] - 13s 23ms/step - loss: 1665.7537 - mae: 1666.2535 - val_loss: 1594.9452 - val_mae: 1595.4450\n",
            "Epoch 145/900\n",
            "532/532 [==============================] - 13s 23ms/step - loss: 1654.8927 - mae: 1655.3918 - val_loss: 1563.3300 - val_mae: 1563.8302\n",
            "Epoch 146/900\n",
            "532/532 [==============================] - 13s 24ms/step - loss: 1653.4856 - mae: 1653.9848 - val_loss: 1554.5222 - val_mae: 1555.0220\n",
            "Epoch 147/900\n",
            "532/532 [==============================] - 13s 23ms/step - loss: 1670.5135 - mae: 1671.0146 - val_loss: 1610.3595 - val_mae: 1610.8602\n",
            "Epoch 148/900\n",
            "532/532 [==============================] - 13s 23ms/step - loss: 1667.8810 - mae: 1668.3804 - val_loss: 1573.0074 - val_mae: 1573.5071\n",
            "Epoch 149/900\n",
            "532/532 [==============================] - 13s 23ms/step - loss: 1663.7839 - mae: 1664.2832 - val_loss: 1581.4235 - val_mae: 1581.9232\n",
            "Epoch 150/900\n",
            "532/532 [==============================] - 13s 23ms/step - loss: 1671.0150 - mae: 1671.5150 - val_loss: 1579.5879 - val_mae: 1580.0884\n",
            "Epoch 151/900\n",
            "532/532 [==============================] - 13s 23ms/step - loss: 1683.5846 - mae: 1684.0845 - val_loss: 1606.9249 - val_mae: 1607.4250\n",
            "Epoch 152/900\n",
            "532/532 [==============================] - 13s 23ms/step - loss: 1679.3942 - mae: 1679.8938 - val_loss: 1585.7534 - val_mae: 1586.2536\n",
            "Epoch 153/900\n",
            "532/532 [==============================] - 13s 23ms/step - loss: 1686.6514 - mae: 1687.1521 - val_loss: 1581.0660 - val_mae: 1581.5659\n",
            "Epoch 154/900\n",
            "532/532 [==============================] - 13s 24ms/step - loss: 1675.3705 - mae: 1675.8691 - val_loss: 1577.0660 - val_mae: 1577.5660\n",
            "Epoch 155/900\n",
            "532/532 [==============================] - 13s 24ms/step - loss: 1683.6733 - mae: 1684.1725 - val_loss: 1578.6367 - val_mae: 1579.1363\n",
            "Epoch 156/900\n",
            "532/532 [==============================] - 13s 24ms/step - loss: 1693.6239 - mae: 1694.1245 - val_loss: 1587.6538 - val_mae: 1588.1541\n",
            "Epoch 157/900\n",
            "532/532 [==============================] - 13s 24ms/step - loss: 1668.1156 - mae: 1668.6159 - val_loss: 1682.3965 - val_mae: 1682.8970\n",
            "Epoch 158/900\n",
            "532/532 [==============================] - 13s 24ms/step - loss: 1696.5315 - mae: 1697.0322 - val_loss: 1557.0082 - val_mae: 1557.5082\n",
            "Epoch 159/900\n",
            "532/532 [==============================] - 13s 24ms/step - loss: 1688.8890 - mae: 1689.3883 - val_loss: 1663.3662 - val_mae: 1663.8664\n",
            "Epoch 160/900\n",
            "532/532 [==============================] - 13s 24ms/step - loss: 1675.7357 - mae: 1676.2354 - val_loss: 1808.2053 - val_mae: 1808.7057\n",
            "Epoch 161/900\n",
            "532/532 [==============================] - 13s 23ms/step - loss: 1677.3071 - mae: 1677.8072 - val_loss: 1569.9252 - val_mae: 1570.4249\n",
            "Epoch 162/900\n",
            "532/532 [==============================] - 13s 24ms/step - loss: 1693.7611 - mae: 1694.2606 - val_loss: 1704.8678 - val_mae: 1705.3676\n",
            "Epoch 163/900\n",
            "532/532 [==============================] - 13s 24ms/step - loss: 1719.3206 - mae: 1719.8206 - val_loss: 1561.4940 - val_mae: 1561.9940\n",
            "Epoch 164/900\n",
            "532/532 [==============================] - 13s 23ms/step - loss: 1673.5175 - mae: 1674.0179 - val_loss: 1574.1058 - val_mae: 1574.6054\n",
            "Epoch 165/900\n",
            "532/532 [==============================] - 13s 24ms/step - loss: 1652.1902 - mae: 1652.6903 - val_loss: 1594.1672 - val_mae: 1594.6669\n",
            "Epoch 166/900\n",
            "532/532 [==============================] - 13s 24ms/step - loss: 1667.4601 - mae: 1667.9609 - val_loss: 1562.7042 - val_mae: 1563.2039\n",
            "Epoch 167/900\n",
            "532/532 [==============================] - 13s 24ms/step - loss: 1673.2545 - mae: 1673.7540 - val_loss: 1612.8774 - val_mae: 1613.3778\n",
            "Epoch 168/900\n",
            "532/532 [==============================] - 13s 24ms/step - loss: 1674.0132 - mae: 1674.5132 - val_loss: 1581.1041 - val_mae: 1581.6043\n",
            "Epoch 169/900\n",
            "532/532 [==============================] - 13s 24ms/step - loss: 1668.4153 - mae: 1668.9150 - val_loss: 1594.4708 - val_mae: 1594.9706\n",
            "Epoch 170/900\n",
            "532/532 [==============================] - 13s 24ms/step - loss: 1675.0540 - mae: 1675.5537 - val_loss: 1571.9791 - val_mae: 1572.4791\n",
            "Epoch 171/900\n",
            "532/532 [==============================] - 13s 24ms/step - loss: 1664.6299 - mae: 1665.1297 - val_loss: 1578.7523 - val_mae: 1579.2515\n",
            "Epoch 172/900\n",
            "532/532 [==============================] - 13s 24ms/step - loss: 1695.6213 - mae: 1696.1209 - val_loss: 1546.6213 - val_mae: 1547.1210\n",
            "Epoch 173/900\n",
            "532/532 [==============================] - 14s 25ms/step - loss: 1722.7963 - mae: 1723.2964 - val_loss: 1661.7135 - val_mae: 1662.2135\n",
            "Epoch 174/900\n",
            "532/532 [==============================] - 13s 24ms/step - loss: 1671.9031 - mae: 1672.4027 - val_loss: 1530.0284 - val_mae: 1530.5287\n",
            "Epoch 175/900\n",
            "532/532 [==============================] - 14s 25ms/step - loss: 1651.1190 - mae: 1651.6186 - val_loss: 1690.9519 - val_mae: 1691.4515\n",
            "Epoch 176/900\n",
            "532/532 [==============================] - 13s 24ms/step - loss: 1660.8422 - mae: 1661.3425 - val_loss: 1546.9038 - val_mae: 1547.4038\n",
            "Epoch 177/900\n",
            "532/532 [==============================] - 13s 24ms/step - loss: 1637.7760 - mae: 1638.2769 - val_loss: 1552.0369 - val_mae: 1552.5367\n",
            "\n",
            "Nilai MAE < 10% dari skala data\n"
          ],
          "name": "stdout"
        }
      ]
    },
    {
      "cell_type": "code",
      "metadata": {
        "id": "113_eByd6Rb3",
        "colab": {
          "base_uri": "https://localhost:8080/",
          "height": 295
        },
        "outputId": "94dda307-92db-4401-e9eb-f8288a65a12b"
      },
      "source": [
        "import matplotlib.pyplot as plt\n",
        "plt.plot(history.history['mae'])\n",
        "plt.plot(history.history['val_mae'])\n",
        "plt.title('MAE (Mean Absolute Error )')\n",
        "plt.ylabel('mae')\n",
        "plt.xlabel('epoch')\n",
        "plt.legend(['train_set', 'test_set'], loc='upper left')\n",
        "plt.show()"
      ],
      "execution_count": 18,
      "outputs": [
        {
          "output_type": "display_data",
          "data": {
            "image/png": "[encoded data removed]",
            "text/plain": [
              "<Figure size 432x288 with 1 Axes>"
            ]
          },
          "metadata": {
            "tags": [],
            "needs_background": "light"
          }
        }
      ]
    },
    {
      "cell_type": "code",
      "metadata": {
        "colab": {
          "base_uri": "https://localhost:8080/",
          "height": 295
        },
        "id": "vJgsJqJUtUjI",
        "outputId": "acf345ee-0076-4872-9654-eaead5a6c152"
      },
      "source": [
        "plt.plot(history.history['loss'])\n",
        "plt.plot(history.history['val_loss'])\n",
        "plt.title('Loss')\n",
        "plt.ylabel('loss')\n",
        "plt.xlabel('epoch')\n",
        "plt.legend(['train_set', 'test_set'], loc='upper left')\n",
        "plt.show()"
      ],
      "execution_count": 19,
      "outputs": [
        {
          "output_type": "display_data",
          "data": {
            "image/png": "[encoded data removed]",
            "text/plain": [
              "<Figure size 432x288 with 1 Axes>"
            ]
          },
          "metadata": {
            "tags": [],
            "needs_background": "light"
          }
        }
      ]
    },
    {
      "cell_type": "code",
      "metadata": {
        "id": "yTd_K2futagK"
      },
      "source": [
        ""
      ],
      "execution_count": 19,
      "outputs": []
    }
  ]
}