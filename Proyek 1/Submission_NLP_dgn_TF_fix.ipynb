{
  "nbformat": 4,
  "nbformat_minor": 0,
  "metadata": {
    "colab": {
      "name": "Submission_NLP dgn_TF_fix.ipynb",
      "provenance": []
    },
    "kernelspec": {
      "name": "python3",
      "display_name": "Python 3"
    },
    "language_info": {
      "name": "python"
    }
  },
  "cells": [
    {
      "cell_type": "markdown",
      "metadata": {
        "id": "Kd6za0UpyaQ4"
      },
      "source": [
        "# Proyek Pertama : Membuat Model NLP dengan TensorFlow"
      ]
    },
    {
      "cell_type": "markdown",
      "metadata": {
        "id": "TBFUsyeKyDxZ"
      },
      "source": [
        "**NLP untuk analisis sentimen covid**\n",
        "\n",
        "\n",
        "**Cecep Roni**"
      ]
    },
    {
      "cell_type": "markdown",
      "metadata": {
        "id": "voD_6I47xx-y"
      },
      "source": [
        "sumber dataset : https://www.kaggle.com/datatattle/covid-19-nlp-text-classification/download"
      ]
    },
    {
      "cell_type": "code",
      "metadata": {
        "colab": {
          "base_uri": "https://localhost:8080/"
        },
        "id": "bJvXJflOxfwE",
        "outputId": "51e624ba-be3e-4b58-bba9-7a5f80a744c4"
      },
      "source": [
        "from google.colab import drive\n",
        "drive.mount('/content/drive')"
      ],
      "execution_count": 1,
      "outputs": [
        {
          "output_type": "stream",
          "text": [
            "Mounted at /content/drive\n"
          ],
          "name": "stdout"
        }
      ]
    },
    {
      "cell_type": "code",
      "metadata": {
        "id": "QTOmPwJ5zDNn"
      },
      "source": [
        "import pandas as pd"
      ],
      "execution_count": 2,
      "outputs": []
    },
    {
      "cell_type": "code",
      "metadata": {
        "colab": {
          "base_uri": "https://localhost:8080/",
          "height": 202
        },
        "id": "qhbxQ2WX318Q",
        "outputId": "ebe7cef3-0da3-4b25-9fca-94729e8e6043"
      },
      "source": [
        "# load dataset\n",
        "df = pd.read_csv('/content/drive/My Drive/Colab Notebooks/Dicoding_PengembanganML/Submission/Coronatweets/Corona_NLP2.csv', encoding = 'ISO-8859-1')\n",
        "df.head()"
      ],
      "execution_count": 9,
      "outputs": [
        {
          "output_type": "execute_result",
          "data": {
            "text/html": [
              "<div>\n",
              "<style scoped>\n",
              "    .dataframe tbody tr th:only-of-type {\n",
              "        vertical-align: middle;\n",
              "    }\n",
              "\n",
              "    .dataframe tbody tr th {\n",
              "        vertical-align: top;\n",
              "    }\n",
              "\n",
              "    .dataframe thead th {\n",
              "        text-align: right;\n",
              "    }\n",
              "</style>\n",
              "<table border=\"1\" class=\"dataframe\">\n",
              "  <thead>\n",
              "    <tr style=\"text-align: right;\">\n",
              "      <th></th>\n",
              "      <th>UserName</th>\n",
              "      <th>ScreenName</th>\n",
              "      <th>Location</th>\n",
              "      <th>TweetAt</th>\n",
              "      <th>OriginalTweet</th>\n",
              "      <th>Sentiment</th>\n",
              "    </tr>\n",
              "  </thead>\n",
              "  <tbody>\n",
              "    <tr>\n",
              "      <th>0</th>\n",
              "      <td>3799</td>\n",
              "      <td>48751</td>\n",
              "      <td>London</td>\n",
              "      <td>16-03-2020</td>\n",
              "      <td>@MeNyrbie @Phil_Gahan @Chrisitv https://t.co/i...</td>\n",
              "      <td>Neutral</td>\n",
              "    </tr>\n",
              "    <tr>\n",
              "      <th>1</th>\n",
              "      <td>3800</td>\n",
              "      <td>48752</td>\n",
              "      <td>UK</td>\n",
              "      <td>16-03-2020</td>\n",
              "      <td>advice Talk to your neighbours family to excha...</td>\n",
              "      <td>Positive</td>\n",
              "    </tr>\n",
              "    <tr>\n",
              "      <th>2</th>\n",
              "      <td>3801</td>\n",
              "      <td>48753</td>\n",
              "      <td>Vagabonds</td>\n",
              "      <td>16-03-2020</td>\n",
              "      <td>Coronavirus Australia: Woolworths to give elde...</td>\n",
              "      <td>Positive</td>\n",
              "    </tr>\n",
              "    <tr>\n",
              "      <th>3</th>\n",
              "      <td>3802</td>\n",
              "      <td>48754</td>\n",
              "      <td>NaN</td>\n",
              "      <td>16-03-2020</td>\n",
              "      <td>My food stock is not the only one which is emp...</td>\n",
              "      <td>Positive</td>\n",
              "    </tr>\n",
              "    <tr>\n",
              "      <th>4</th>\n",
              "      <td>3803</td>\n",
              "      <td>48755</td>\n",
              "      <td>NaN</td>\n",
              "      <td>16-03-2020</td>\n",
              "      <td>Me, ready to go at supermarket during the #COV...</td>\n",
              "      <td>Extremely Negative</td>\n",
              "    </tr>\n",
              "  </tbody>\n",
              "</table>\n",
              "</div>"
            ],
            "text/plain": [
              "   UserName  ...           Sentiment\n",
              "0      3799  ...             Neutral\n",
              "1      3800  ...            Positive\n",
              "2      3801  ...            Positive\n",
              "3      3802  ...            Positive\n",
              "4      3803  ...  Extremely Negative\n",
              "\n",
              "[5 rows x 6 columns]"
            ]
          },
          "metadata": {
            "tags": []
          },
          "execution_count": 9
        }
      ]
    },
    {
      "cell_type": "code",
      "metadata": {
        "colab": {
          "base_uri": "https://localhost:8080/"
        },
        "id": "wuEKdu7X5Cq0",
        "outputId": "93cf984d-f663-450d-d421-cda76b1a17b7"
      },
      "source": [
        "df.info()"
      ],
      "execution_count": 10,
      "outputs": [
        {
          "output_type": "stream",
          "text": [
            "<class 'pandas.core.frame.DataFrame'>\n",
            "RangeIndex: 41157 entries, 0 to 41156\n",
            "Data columns (total 6 columns):\n",
            " #   Column         Non-Null Count  Dtype \n",
            "---  ------         --------------  ----- \n",
            " 0   UserName       41157 non-null  int64 \n",
            " 1   ScreenName     41157 non-null  int64 \n",
            " 2   Location       32567 non-null  object\n",
            " 3   TweetAt        41157 non-null  object\n",
            " 4   OriginalTweet  41157 non-null  object\n",
            " 5   Sentiment      41157 non-null  object\n",
            "dtypes: int64(2), object(4)\n",
            "memory usage: 1.9+ MB\n"
          ],
          "name": "stdout"
        }
      ]
    },
    {
      "cell_type": "code",
      "metadata": {
        "colab": {
          "base_uri": "https://localhost:8080/"
        },
        "id": "0k_d9W1a5kp9",
        "outputId": "19243d89-2c8c-426e-9eae-1fcea41d4e5d"
      },
      "source": [
        "df.shape"
      ],
      "execution_count": 11,
      "outputs": [
        {
          "output_type": "execute_result",
          "data": {
            "text/plain": [
              "(41157, 6)"
            ]
          },
          "metadata": {
            "tags": []
          },
          "execution_count": 11
        }
      ]
    },
    {
      "cell_type": "code",
      "metadata": {
        "colab": {
          "base_uri": "https://localhost:8080/"
        },
        "id": "0ORmFkaS5H0Z",
        "outputId": "7f7548ea-6c78-472a-bc8b-d8880fb48629"
      },
      "source": [
        "df.columns"
      ],
      "execution_count": 12,
      "outputs": [
        {
          "output_type": "execute_result",
          "data": {
            "text/plain": [
              "Index(['UserName', 'ScreenName', 'Location', 'TweetAt', 'OriginalTweet',\n",
              "       'Sentiment'],\n",
              "      dtype='object')"
            ]
          },
          "metadata": {
            "tags": []
          },
          "execution_count": 12
        }
      ]
    },
    {
      "cell_type": "code",
      "metadata": {
        "colab": {
          "base_uri": "https://localhost:8080/",
          "height": 414
        },
        "id": "ohHs5Dup55Qo",
        "outputId": "dc78e496-80ee-4069-9737-5380a2aaa30f"
      },
      "source": [
        "# Hapus Kolom tak terpakai\n",
        "df2 = df.drop(df.columns[[0,1,2,3]],axis=1)\n",
        "df2"
      ],
      "execution_count": 14,
      "outputs": [
        {
          "output_type": "execute_result",
          "data": {
            "text/html": [
              "<div>\n",
              "<style scoped>\n",
              "    .dataframe tbody tr th:only-of-type {\n",
              "        vertical-align: middle;\n",
              "    }\n",
              "\n",
              "    .dataframe tbody tr th {\n",
              "        vertical-align: top;\n",
              "    }\n",
              "\n",
              "    .dataframe thead th {\n",
              "        text-align: right;\n",
              "    }\n",
              "</style>\n",
              "<table border=\"1\" class=\"dataframe\">\n",
              "  <thead>\n",
              "    <tr style=\"text-align: right;\">\n",
              "      <th></th>\n",
              "      <th>OriginalTweet</th>\n",
              "      <th>Sentiment</th>\n",
              "    </tr>\n",
              "  </thead>\n",
              "  <tbody>\n",
              "    <tr>\n",
              "      <th>0</th>\n",
              "      <td>@MeNyrbie @Phil_Gahan @Chrisitv https://t.co/i...</td>\n",
              "      <td>Neutral</td>\n",
              "    </tr>\n",
              "    <tr>\n",
              "      <th>1</th>\n",
              "      <td>advice Talk to your neighbours family to excha...</td>\n",
              "      <td>Positive</td>\n",
              "    </tr>\n",
              "    <tr>\n",
              "      <th>2</th>\n",
              "      <td>Coronavirus Australia: Woolworths to give elde...</td>\n",
              "      <td>Positive</td>\n",
              "    </tr>\n",
              "    <tr>\n",
              "      <th>3</th>\n",
              "      <td>My food stock is not the only one which is emp...</td>\n",
              "      <td>Positive</td>\n",
              "    </tr>\n",
              "    <tr>\n",
              "      <th>4</th>\n",
              "      <td>Me, ready to go at supermarket during the #COV...</td>\n",
              "      <td>Extremely Negative</td>\n",
              "    </tr>\n",
              "    <tr>\n",
              "      <th>...</th>\n",
              "      <td>...</td>\n",
              "      <td>...</td>\n",
              "    </tr>\n",
              "    <tr>\n",
              "      <th>41152</th>\n",
              "      <td>Airline pilots offering to stock supermarket s...</td>\n",
              "      <td>Neutral</td>\n",
              "    </tr>\n",
              "    <tr>\n",
              "      <th>41153</th>\n",
              "      <td>Response to complaint not provided citing COVI...</td>\n",
              "      <td>Extremely Negative</td>\n",
              "    </tr>\n",
              "    <tr>\n",
              "      <th>41154</th>\n",
              "      <td>You know itÂs getting tough when @KameronWild...</td>\n",
              "      <td>Positive</td>\n",
              "    </tr>\n",
              "    <tr>\n",
              "      <th>41155</th>\n",
              "      <td>Is it wrong that the smell of hand sanitizer i...</td>\n",
              "      <td>Neutral</td>\n",
              "    </tr>\n",
              "    <tr>\n",
              "      <th>41156</th>\n",
              "      <td>@TartiiCat Well new/used Rift S are going for ...</td>\n",
              "      <td>Negative</td>\n",
              "    </tr>\n",
              "  </tbody>\n",
              "</table>\n",
              "<p>41157 rows × 2 columns</p>\n",
              "</div>"
            ],
            "text/plain": [
              "                                           OriginalTweet           Sentiment\n",
              "0      @MeNyrbie @Phil_Gahan @Chrisitv https://t.co/i...             Neutral\n",
              "1      advice Talk to your neighbours family to excha...            Positive\n",
              "2      Coronavirus Australia: Woolworths to give elde...            Positive\n",
              "3      My food stock is not the only one which is emp...            Positive\n",
              "4      Me, ready to go at supermarket during the #COV...  Extremely Negative\n",
              "...                                                  ...                 ...\n",
              "41152  Airline pilots offering to stock supermarket s...             Neutral\n",
              "41153  Response to complaint not provided citing COVI...  Extremely Negative\n",
              "41154  You know itÂs getting tough when @KameronWild...            Positive\n",
              "41155  Is it wrong that the smell of hand sanitizer i...             Neutral\n",
              "41156  @TartiiCat Well new/used Rift S are going for ...            Negative\n",
              "\n",
              "[41157 rows x 2 columns]"
            ]
          },
          "metadata": {
            "tags": []
          },
          "execution_count": 14
        }
      ]
    },
    {
      "cell_type": "code",
      "metadata": {
        "colab": {
          "base_uri": "https://localhost:8080/",
          "height": 414
        },
        "id": "WruOrDBdudCz",
        "outputId": "9782df0e-6079-4ceb-aef6-967a62cb3f9a"
      },
      "source": [
        "df2.rename(columns={'OriginalTweet': 'tweet', 'Sentiment' : 'sentiment'}, inplace=True)\n",
        "df2"
      ],
      "execution_count": 15,
      "outputs": [
        {
          "output_type": "execute_result",
          "data": {
            "text/html": [
              "<div>\n",
              "<style scoped>\n",
              "    .dataframe tbody tr th:only-of-type {\n",
              "        vertical-align: middle;\n",
              "    }\n",
              "\n",
              "    .dataframe tbody tr th {\n",
              "        vertical-align: top;\n",
              "    }\n",
              "\n",
              "    .dataframe thead th {\n",
              "        text-align: right;\n",
              "    }\n",
              "</style>\n",
              "<table border=\"1\" class=\"dataframe\">\n",
              "  <thead>\n",
              "    <tr style=\"text-align: right;\">\n",
              "      <th></th>\n",
              "      <th>tweet</th>\n",
              "      <th>sentiment</th>\n",
              "    </tr>\n",
              "  </thead>\n",
              "  <tbody>\n",
              "    <tr>\n",
              "      <th>0</th>\n",
              "      <td>@MeNyrbie @Phil_Gahan @Chrisitv https://t.co/i...</td>\n",
              "      <td>Neutral</td>\n",
              "    </tr>\n",
              "    <tr>\n",
              "      <th>1</th>\n",
              "      <td>advice Talk to your neighbours family to excha...</td>\n",
              "      <td>Positive</td>\n",
              "    </tr>\n",
              "    <tr>\n",
              "      <th>2</th>\n",
              "      <td>Coronavirus Australia: Woolworths to give elde...</td>\n",
              "      <td>Positive</td>\n",
              "    </tr>\n",
              "    <tr>\n",
              "      <th>3</th>\n",
              "      <td>My food stock is not the only one which is emp...</td>\n",
              "      <td>Positive</td>\n",
              "    </tr>\n",
              "    <tr>\n",
              "      <th>4</th>\n",
              "      <td>Me, ready to go at supermarket during the #COV...</td>\n",
              "      <td>Extremely Negative</td>\n",
              "    </tr>\n",
              "    <tr>\n",
              "      <th>...</th>\n",
              "      <td>...</td>\n",
              "      <td>...</td>\n",
              "    </tr>\n",
              "    <tr>\n",
              "      <th>41152</th>\n",
              "      <td>Airline pilots offering to stock supermarket s...</td>\n",
              "      <td>Neutral</td>\n",
              "    </tr>\n",
              "    <tr>\n",
              "      <th>41153</th>\n",
              "      <td>Response to complaint not provided citing COVI...</td>\n",
              "      <td>Extremely Negative</td>\n",
              "    </tr>\n",
              "    <tr>\n",
              "      <th>41154</th>\n",
              "      <td>You know itÂs getting tough when @KameronWild...</td>\n",
              "      <td>Positive</td>\n",
              "    </tr>\n",
              "    <tr>\n",
              "      <th>41155</th>\n",
              "      <td>Is it wrong that the smell of hand sanitizer i...</td>\n",
              "      <td>Neutral</td>\n",
              "    </tr>\n",
              "    <tr>\n",
              "      <th>41156</th>\n",
              "      <td>@TartiiCat Well new/used Rift S are going for ...</td>\n",
              "      <td>Negative</td>\n",
              "    </tr>\n",
              "  </tbody>\n",
              "</table>\n",
              "<p>41157 rows × 2 columns</p>\n",
              "</div>"
            ],
            "text/plain": [
              "                                                   tweet           sentiment\n",
              "0      @MeNyrbie @Phil_Gahan @Chrisitv https://t.co/i...             Neutral\n",
              "1      advice Talk to your neighbours family to excha...            Positive\n",
              "2      Coronavirus Australia: Woolworths to give elde...            Positive\n",
              "3      My food stock is not the only one which is emp...            Positive\n",
              "4      Me, ready to go at supermarket during the #COV...  Extremely Negative\n",
              "...                                                  ...                 ...\n",
              "41152  Airline pilots offering to stock supermarket s...             Neutral\n",
              "41153  Response to complaint not provided citing COVI...  Extremely Negative\n",
              "41154  You know itÂs getting tough when @KameronWild...            Positive\n",
              "41155  Is it wrong that the smell of hand sanitizer i...             Neutral\n",
              "41156  @TartiiCat Well new/used Rift S are going for ...            Negative\n",
              "\n",
              "[41157 rows x 2 columns]"
            ]
          },
          "metadata": {
            "tags": []
          },
          "execution_count": 15
        }
      ]
    },
    {
      "cell_type": "markdown",
      "metadata": {
        "id": "Vb4RVdaG88MR"
      },
      "source": [
        "## Library and Package"
      ]
    },
    {
      "cell_type": "code",
      "metadata": {
        "id": "xqvxk4iN86zS"
      },
      "source": [
        "# import library\n",
        "import nltk, os, re, string\n",
        "\n",
        "from keras.layers import Input, LSTM, Bidirectional, Dropout, SpatialDropout1D, Dense, Embedding, Flatten, BatchNormalization\n",
        "from keras.callbacks import EarlyStopping\n",
        "from keras.preprocessing.text import Tokenizer, text_to_word_sequence\n",
        "from keras.preprocessing.sequence import pad_sequences\n",
        "from keras.models import Model\n",
        "# from keras.utils import to_categorical\n",
        "\n",
        "from nltk.corpus import stopwords\n",
        "from nltk.corpus import wordnet as wn\n",
        "from nltk.stem import WordNetLemmatizer"
      ],
      "execution_count": 16,
      "outputs": []
    },
    {
      "cell_type": "code",
      "metadata": {
        "colab": {
          "base_uri": "https://localhost:8080/"
        },
        "id": "y9HgaydelxKM",
        "outputId": "cf42dd3a-7185-45e9-df44-279a92a61236"
      },
      "source": [
        "#download package\n",
        "nltk.download('wordnet')\n",
        "nltk.download('stopwords') "
      ],
      "execution_count": 17,
      "outputs": [
        {
          "output_type": "stream",
          "text": [
            "[nltk_data] Downloading package wordnet to /root/nltk_data...\n",
            "[nltk_data]   Unzipping corpora/wordnet.zip.\n",
            "[nltk_data] Downloading package stopwords to /root/nltk_data...\n",
            "[nltk_data]   Unzipping corpora/stopwords.zip.\n"
          ],
          "name": "stdout"
        },
        {
          "output_type": "execute_result",
          "data": {
            "text/plain": [
              "True"
            ]
          },
          "metadata": {
            "tags": []
          },
          "execution_count": 17
        }
      ]
    },
    {
      "cell_type": "markdown",
      "metadata": {
        "id": "n3dfqVBOpUJ-"
      },
      "source": [
        "## Cleansing Data"
      ]
    },
    {
      "cell_type": "code",
      "metadata": {
        "id": "2jlEPkCTCi2L"
      },
      "source": [
        "def cleansing(data):\n",
        "    #Lower Text\n",
        "    data = data.lower()\n",
        "    \n",
        "    #hapus url\n",
        "    data = re.sub('((www\\.[^\\s]+)|(https?://[^\\s]+))','',data)\n",
        "    pattern = re.compile(r'http[s]?://(?:[a-zA-Z]|[0-9]|[$-_@.&+]|[!*\\(\\),]|(?:%[0-9a-fA-F][0-9a-fA-F]))+')\n",
        "    pattern1 = re.compile(r'pic.twitter.com/(?:[a-zA-Z]|[0-9]|[$-_@.&+]|[!*\\(\\),]|(?:%[0-9a-fA-F][0-9a-fA-F]))+')\n",
        "    data = re.sub(pattern,' ',data) #remove urls if any\n",
        "    data = re.sub(pattern1,' ',data)\n",
        "    \n",
        "    #Hapus Mention\n",
        "    data = re.sub('@[^\\s]+','',data)\n",
        "    \n",
        "    # hapus angka\n",
        "    data = re.sub(r\"\\d+\", \"\",data)\n",
        "    \n",
        "    # hapus covid\n",
        "    data = re.sub(r\"covid\", \"\",data)\n",
        "    \n",
        "    #Hapus Hastag\n",
        "    data = re.sub('#[^\\s]+','',data)\n",
        "    data = re.sub(\"b' \", \"\",data)\n",
        "    data = re.sub(\"b'\",\"\",data)\n",
        "    data = re.sub('b\"','',data)\n",
        "\n",
        "    #Remove additional white spaces\n",
        "    data = re.sub('[\\n]','',data)\n",
        "    \n",
        "    #Remove not alphanumeric symbols white spaces\n",
        "    data = re.sub(r'[^\\w]+', ' ', data)\n",
        "    \n",
        "    #Remove :( or :)\n",
        "    data = data.replace(':)','')\n",
        "    data = data.replace(':(','')\n",
        "    \n",
        "    #trim\n",
        "    data = data.strip('\\'\"')\n",
        "    \n",
        "    return data"
      ],
      "execution_count": 18,
      "outputs": []
    },
    {
      "cell_type": "code",
      "metadata": {
        "colab": {
          "base_uri": "https://localhost:8080/",
          "height": 202
        },
        "id": "PVdt32BKDEey",
        "outputId": "241cd0d2-e7fe-4909-cc35-9c07032a4a17"
      },
      "source": [
        "tweet_cleansing = []\n",
        "for index, row in df2.iterrows():\n",
        "    tweet_cleansing.append(cleansing(row[\"tweet\"]))\n",
        "\n",
        "df2['tweet'] = tweet_cleansing\n",
        "df2.head()"
      ],
      "execution_count": 19,
      "outputs": [
        {
          "output_type": "execute_result",
          "data": {
            "text/html": [
              "<div>\n",
              "<style scoped>\n",
              "    .dataframe tbody tr th:only-of-type {\n",
              "        vertical-align: middle;\n",
              "    }\n",
              "\n",
              "    .dataframe tbody tr th {\n",
              "        vertical-align: top;\n",
              "    }\n",
              "\n",
              "    .dataframe thead th {\n",
              "        text-align: right;\n",
              "    }\n",
              "</style>\n",
              "<table border=\"1\" class=\"dataframe\">\n",
              "  <thead>\n",
              "    <tr style=\"text-align: right;\">\n",
              "      <th></th>\n",
              "      <th>tweet</th>\n",
              "      <th>sentiment</th>\n",
              "    </tr>\n",
              "  </thead>\n",
              "  <tbody>\n",
              "    <tr>\n",
              "      <th>0</th>\n",
              "      <td>and and</td>\n",
              "      <td>Neutral</td>\n",
              "    </tr>\n",
              "    <tr>\n",
              "      <th>1</th>\n",
              "      <td>advice talk to your neighbours family to excha...</td>\n",
              "      <td>Positive</td>\n",
              "    </tr>\n",
              "    <tr>\n",
              "      <th>2</th>\n",
              "      <td>coronavirus australia woolworths to give elder...</td>\n",
              "      <td>Positive</td>\n",
              "    </tr>\n",
              "    <tr>\n",
              "      <th>3</th>\n",
              "      <td>my food stock is not the only one which is emp...</td>\n",
              "      <td>Positive</td>\n",
              "    </tr>\n",
              "    <tr>\n",
              "      <th>4</th>\n",
              "      <td>me ready to go at supermarket during the outbr...</td>\n",
              "      <td>Extremely Negative</td>\n",
              "    </tr>\n",
              "  </tbody>\n",
              "</table>\n",
              "</div>"
            ],
            "text/plain": [
              "                                               tweet           sentiment\n",
              "0                                           and and              Neutral\n",
              "1  advice talk to your neighbours family to excha...            Positive\n",
              "2  coronavirus australia woolworths to give elder...            Positive\n",
              "3  my food stock is not the only one which is emp...            Positive\n",
              "4  me ready to go at supermarket during the outbr...  Extremely Negative"
            ]
          },
          "metadata": {
            "tags": []
          },
          "execution_count": 19
        }
      ]
    },
    {
      "cell_type": "code",
      "metadata": {
        "colab": {
          "base_uri": "https://localhost:8080/",
          "height": 282
        },
        "id": "4pKidVZmggVt",
        "outputId": "0e9d6dde-857a-4476-9848-755e9bcd0713"
      },
      "source": [
        "df2.sentiment.hist()"
      ],
      "execution_count": 20,
      "outputs": [
        {
          "output_type": "execute_result",
          "data": {
            "text/plain": [
              "<matplotlib.axes._subplots.AxesSubplot at 0x7fc7e528cfd0>"
            ]
          },
          "metadata": {
            "tags": []
          },
          "execution_count": 20
        },
        {
          "output_type": "display_data",
          "data": {
            "image/png": "[encoded data removed]",
            "text/plain": [
              "<Figure size 432x288 with 1 Axes>"
            ]
          },
          "metadata": {
            "tags": [],
            "needs_background": "light"
          }
        }
      ]
    },
    {
      "cell_type": "code",
      "metadata": {
        "colab": {
          "base_uri": "https://localhost:8080/"
        },
        "id": "Sb2HxqSkhqHm",
        "outputId": "0afa99cd-73cc-446e-8b34-221fce06f3d0"
      },
      "source": [
        "df2.sentiment.value_counts()"
      ],
      "execution_count": 21,
      "outputs": [
        {
          "output_type": "execute_result",
          "data": {
            "text/plain": [
              "Positive              11422\n",
              "Negative               9917\n",
              "Neutral                7713\n",
              "Extremely Positive     6624\n",
              "Extremely Negative     5481\n",
              "Name: sentiment, dtype: int64"
            ]
          },
          "metadata": {
            "tags": []
          },
          "execution_count": 21
        }
      ]
    },
    {
      "cell_type": "code",
      "metadata": {
        "colab": {
          "base_uri": "https://localhost:8080/"
        },
        "id": "rM2P-m-9g4lm",
        "outputId": "dc4b3e8b-ce18-49c3-e4bf-63901775d42b"
      },
      "source": [
        "# menyamaratakan jumlah kolom sentimen dengan mengambil jumlah yang terkecil\n",
        "s_1 = df2[df2['sentiment']=='Extremely Negative'].sample(5481,replace=True)\n",
        "s_2 = df2[df2['sentiment']=='Extremely Positive'].sample(5481,replace=True)\n",
        "s_3 = df2[df2['sentiment']=='Negative'].sample(5481,replace=True)\n",
        "s_4 = df2[df2['sentiment']=='Neutral'].sample(5481,replace=True)\n",
        "s_5 = df2[df2['sentiment']=='Positive'].sample(5481,replace=True)\n",
        "df3 = pd.concat([s_1, s_2, s_3, s_4, s_5])\n",
        "\n",
        "print(df3.shape)\n",
        "print(df3['sentiment'].value_counts(normalize=True))"
      ],
      "execution_count": 22,
      "outputs": [
        {
          "output_type": "stream",
          "text": [
            "(27405, 2)\n",
            "Negative              0.2\n",
            "Positive              0.2\n",
            "Extremely Positive    0.2\n",
            "Extremely Negative    0.2\n",
            "Neutral               0.2\n",
            "Name: sentiment, dtype: float64\n"
          ],
          "name": "stdout"
        }
      ]
    },
    {
      "cell_type": "code",
      "metadata": {
        "colab": {
          "base_uri": "https://localhost:8080/",
          "height": 282
        },
        "id": "6csO2QtgsD7Y",
        "outputId": "b6fd57be-6826-4930-80db-a48a17ba2d25"
      },
      "source": [
        "df3.sentiment.hist()"
      ],
      "execution_count": 23,
      "outputs": [
        {
          "output_type": "execute_result",
          "data": {
            "text/plain": [
              "<matplotlib.axes._subplots.AxesSubplot at 0x7fc7e51a2150>"
            ]
          },
          "metadata": {
            "tags": []
          },
          "execution_count": 23
        },
        {
          "output_type": "display_data",
          "data": {
            "image/png": "[encoded data removed]",
            "text/plain": [
              "<Figure size 432x288 with 1 Axes>"
            ]
          },
          "metadata": {
            "tags": [],
            "needs_background": "light"
          }
        }
      ]
    },
    {
      "cell_type": "markdown",
      "metadata": {
        "id": "nGHuT74VLk1e"
      },
      "source": [
        "## Model dan Plot"
      ]
    },
    {
      "cell_type": "code",
      "metadata": {
        "colab": {
          "base_uri": "https://localhost:8080/",
          "height": 202
        },
        "id": "6-AXv3qWAN7y",
        "outputId": "fbd4b60d-a8ed-4c74-f151-fc0f91dd16fe"
      },
      "source": [
        "# data sentiment one-hot-encoding\n",
        "\n",
        "sentiment = pd.get_dummies(df3.sentiment)\n",
        "df_sentiment = pd.concat([df3, sentiment], axis=1)\n",
        "df_sentiment = df_sentiment.drop(columns='sentiment')\n",
        "\n",
        "df_sentiment.rename(columns={'Extremely Negative': 'extrm_negative', 'Extremely Positive' : 'extrm_positive', 'Negative' : 'negative',\n",
        "                             'Neutral' : 'neutral', 'Positive' : 'positive'}, inplace=True)\n",
        "df_sentiment.head()"
      ],
      "execution_count": 24,
      "outputs": [
        {
          "output_type": "execute_result",
          "data": {
            "text/html": [
              "<div>\n",
              "<style scoped>\n",
              "    .dataframe tbody tr th:only-of-type {\n",
              "        vertical-align: middle;\n",
              "    }\n",
              "\n",
              "    .dataframe tbody tr th {\n",
              "        vertical-align: top;\n",
              "    }\n",
              "\n",
              "    .dataframe thead th {\n",
              "        text-align: right;\n",
              "    }\n",
              "</style>\n",
              "<table border=\"1\" class=\"dataframe\">\n",
              "  <thead>\n",
              "    <tr style=\"text-align: right;\">\n",
              "      <th></th>\n",
              "      <th>tweet</th>\n",
              "      <th>extrm_negative</th>\n",
              "      <th>extrm_positive</th>\n",
              "      <th>negative</th>\n",
              "      <th>neutral</th>\n",
              "      <th>positive</th>\n",
              "    </tr>\n",
              "  </thead>\n",
              "  <tbody>\n",
              "    <tr>\n",
              "      <th>16689</th>\n",
              "      <td>good on this store in this should be done ever...</td>\n",
              "      <td>1</td>\n",
              "      <td>0</td>\n",
              "      <td>0</td>\n",
              "      <td>0</td>\n",
              "      <td>0</td>\n",
              "    </tr>\n",
              "    <tr>\n",
              "      <th>31698</th>\n",
              "      <td>the collective response to the pandemic from p...</td>\n",
              "      <td>1</td>\n",
              "      <td>0</td>\n",
              "      <td>0</td>\n",
              "      <td>0</td>\n",
              "      <td>0</td>\n",
              "    </tr>\n",
              "    <tr>\n",
              "      <th>25290</th>\n",
              "      <td>march the other emergency is crashing the and...</td>\n",
              "      <td>1</td>\n",
              "      <td>0</td>\n",
              "      <td>0</td>\n",
              "      <td>0</td>\n",
              "      <td>0</td>\n",
              "    </tr>\n",
              "    <tr>\n",
              "      <th>27252</th>\n",
              "      <td>it s only been a week but tough start for ever...</td>\n",
              "      <td>1</td>\n",
              "      <td>0</td>\n",
              "      <td>0</td>\n",
              "      <td>0</td>\n",
              "      <td>0</td>\n",
              "    </tr>\n",
              "    <tr>\n",
              "      <th>38893</th>\n",
              "      <td>there s a lot of stories of councils looking t...</td>\n",
              "      <td>1</td>\n",
              "      <td>0</td>\n",
              "      <td>0</td>\n",
              "      <td>0</td>\n",
              "      <td>0</td>\n",
              "    </tr>\n",
              "  </tbody>\n",
              "</table>\n",
              "</div>"
            ],
            "text/plain": [
              "                                                   tweet  ...  positive\n",
              "16689  good on this store in this should be done ever...  ...         0\n",
              "31698  the collective response to the pandemic from p...  ...         0\n",
              "25290   march the other emergency is crashing the and...  ...         0\n",
              "27252  it s only been a week but tough start for ever...  ...         0\n",
              "38893  there s a lot of stories of councils looking t...  ...         0\n",
              "\n",
              "[5 rows x 6 columns]"
            ]
          },
          "metadata": {
            "tags": []
          },
          "execution_count": 24
        }
      ]
    },
    {
      "cell_type": "code",
      "metadata": {
        "id": "2epqU-9PN4lt"
      },
      "source": [
        "# ubah dataframe value ke numpy array\n",
        "tweets = df_sentiment['tweet'].values\n",
        "label = df_sentiment[['extrm_negative', 'extrm_positive', 'negative', 'neutral', 'positive']].values"
      ],
      "execution_count": 25,
      "outputs": []
    },
    {
      "cell_type": "code",
      "metadata": {
        "colab": {
          "base_uri": "https://localhost:8080/"
        },
        "id": "pl56szWkPPVa",
        "outputId": "6f8d6204-e926-4117-9370-1713bfc40066"
      },
      "source": [
        "# tampilkan tweets dalam array\n",
        "tweets"
      ],
      "execution_count": 26,
      "outputs": [
        {
          "output_type": "execute_result",
          "data": {
            "text/plain": [
              "array(['good on this store in this should be done everywhere amp businesses that don t comply should be fined assholes always ruin things for everyone ',\n",
              "       'the collective response to the pandemic from panic buying at grocery stores to restaurant closures is bound to inflate the amount of food waste food loss experts say at a time when food insecurity is on the rise',\n",
              "       ' march the other emergency is crashing the and other factors have the world teetering on economic depression say experts the tyee ',\n",
              "       ...,\n",
              "       'as the pandemic continues to spread worldwide there s a growing concern about the supply and demand of food in the united states speaks with ceo a bobo',\n",
              "       'pm â donâ t think fresh air provides immunity you have to be m apart take this advice follow it it is crucialâ â of course we will bring forward further measures if necessaryâ ',\n",
              "       'back home from supermarket well that was an experience now i think i might put myself in a cardboard box with some old newspapers around me and hibinate until this is all over '],\n",
              "      dtype=object)"
            ]
          },
          "metadata": {
            "tags": []
          },
          "execution_count": 26
        }
      ]
    },
    {
      "cell_type": "code",
      "metadata": {
        "colab": {
          "base_uri": "https://localhost:8080/"
        },
        "id": "JUvpKR0qPWuF",
        "outputId": "fa6dd28a-0786-4dcb-f3f9-cef3aa8963de"
      },
      "source": [
        "# tampilakn kolom sentimen dalam array\n",
        "label"
      ],
      "execution_count": 27,
      "outputs": [
        {
          "output_type": "execute_result",
          "data": {
            "text/plain": [
              "array([[1, 0, 0, 0, 0],\n",
              "       [1, 0, 0, 0, 0],\n",
              "       [1, 0, 0, 0, 0],\n",
              "       ...,\n",
              "       [0, 0, 0, 0, 1],\n",
              "       [0, 0, 0, 0, 1],\n",
              "       [0, 0, 0, 0, 1]], dtype=uint8)"
            ]
          },
          "metadata": {
            "tags": []
          },
          "execution_count": 27
        }
      ]
    },
    {
      "cell_type": "code",
      "metadata": {
        "id": "qORGElQ4XJx3"
      },
      "source": [
        "# split data ke train dan validation\n",
        "\n",
        "from sklearn.model_selection import train_test_split\n",
        "X_train, X_val, y_train, y_val = train_test_split(tweets, label, test_size=0.2, shuffle=True) "
      ],
      "execution_count": 28,
      "outputs": []
    },
    {
      "cell_type": "code",
      "metadata": {
        "id": "XfH2Qnc0Ysc-"
      },
      "source": [
        "#tokenisasi\n",
        "#Import library\n",
        "\n",
        "from tensorflow.keras.preprocessing.text import Tokenizer\n",
        "from tensorflow.keras.preprocessing.sequence import pad_sequences"
      ],
      "execution_count": 29,
      "outputs": []
    },
    {
      "cell_type": "code",
      "metadata": {
        "id": "PuA5nIACbUIq"
      },
      "source": [
        "# Mulai Tokenisasi\n",
        "\n",
        "tokenisasi = Tokenizer(num_words=5000, oov_token='x', filters='!\"#$%&()*+,-./:;<=>@[\\]^_`{|}~ ')\n",
        "tokenisasi.fit_on_texts(X_train) \n",
        "tokenisasi.fit_on_texts(X_val)\n",
        " \n",
        "seq_train = tokenisasi.texts_to_sequences(X_train)\n",
        "seq_test = tokenisasi.texts_to_sequences(X_val)\n",
        " \n",
        "pad_train = pad_sequences(seq_train) \n",
        "pad_test = pad_sequences(seq_test)"
      ],
      "execution_count": 30,
      "outputs": []
    },
    {
      "cell_type": "code",
      "metadata": {
        "colab": {
          "base_uri": "https://localhost:8080/"
        },
        "id": "GuM5AvE6ZYaV",
        "outputId": "d8efac10-efaa-492f-ad9a-cc7d7b21a748"
      },
      "source": [
        "# model\n",
        "import tensorflow as tf\n",
        "model = tf.keras.Sequential([\n",
        "    tf.keras.layers.Embedding(input_dim=5000, output_dim=64),\n",
        "    tf.keras.layers.LSTM(128),\n",
        "    tf.keras.layers.Dense(128, activation='relu'),\n",
        "    tf.keras.layers.Dropout(0.5),\n",
        "    tf.keras.layers.Dense(5, activation='softmax')\n",
        "])\n",
        "model.compile(optimizer='adam', metrics=['accuracy'], loss='categorical_crossentropy',)\n",
        "model.summary()"
      ],
      "execution_count": 31,
      "outputs": [
        {
          "output_type": "stream",
          "text": [
            "Model: \"sequential\"\n",
            "_________________________________________________________________\n",
            "Layer (type)                 Output Shape              Param #   \n",
            "=================================================================\n",
            "embedding (Embedding)        (None, None, 64)          320000    \n",
            "_________________________________________________________________\n",
            "lstm (LSTM)                  (None, 128)               98816     \n",
            "_________________________________________________________________\n",
            "dense (Dense)                (None, 128)               16512     \n",
            "_________________________________________________________________\n",
            "dropout (Dropout)            (None, 128)               0         \n",
            "_________________________________________________________________\n",
            "dense_1 (Dense)              (None, 5)                 645       \n",
            "=================================================================\n",
            "Total params: 435,973\n",
            "Trainable params: 435,973\n",
            "Non-trainable params: 0\n",
            "_________________________________________________________________\n"
          ],
          "name": "stdout"
        }
      ]
    },
    {
      "cell_type": "code",
      "metadata": {
        "id": "00PUzYylZ2wI"
      },
      "source": [
        "# callback\n",
        "class myCallback(tf.keras.callbacks.Callback):\n",
        "  def on_epoch_end(self, epoch, logs={}):\n",
        "    if(logs.get('accuracy')>0.9 and logs.get('val_accuracy')>0.9):\n",
        "      self.model.stop_training = True\n",
        "      print(\"\\nThe accuracy of the training set and the validation set has reached > 90%!\")\n",
        "callbacks = myCallback()"
      ],
      "execution_count": 32,
      "outputs": []
    },
    {
      "cell_type": "code",
      "metadata": {
        "colab": {
          "base_uri": "https://localhost:8080/"
        },
        "id": "CAlPiwxtbpH1",
        "outputId": "666cd31b-3cbc-4170-d719-194c626861b1"
      },
      "source": [
        "# model fit\n",
        "hist = model.fit(pad_train, y_train, epochs=50, \n",
        "                    validation_data=(pad_test, y_val), verbose=2, callbacks=[callbacks], validation_steps=30)"
      ],
      "execution_count": 33,
      "outputs": [
        {
          "output_type": "stream",
          "text": [
            "Epoch 1/50\n",
            "686/686 - 52s - loss: 1.1640 - accuracy: 0.5098 - val_loss: 0.7952 - val_accuracy: 0.7022\n",
            "Epoch 2/50\n",
            "686/686 - 49s - loss: 0.6625 - accuracy: 0.7634 - val_loss: 0.6532 - val_accuracy: 0.7643\n",
            "Epoch 3/50\n",
            "686/686 - 49s - loss: 0.5019 - accuracy: 0.8333 - val_loss: 0.6352 - val_accuracy: 0.7896\n",
            "Epoch 4/50\n",
            "686/686 - 49s - loss: 0.4052 - accuracy: 0.8653 - val_loss: 0.5896 - val_accuracy: 0.8030\n",
            "Epoch 5/50\n",
            "686/686 - 49s - loss: 0.3194 - accuracy: 0.8937 - val_loss: 0.5864 - val_accuracy: 0.8161\n",
            "Epoch 6/50\n",
            "686/686 - 49s - loss: 0.2532 - accuracy: 0.9167 - val_loss: 0.6482 - val_accuracy: 0.8103\n",
            "Epoch 7/50\n",
            "686/686 - 49s - loss: 0.2037 - accuracy: 0.9333 - val_loss: 0.7127 - val_accuracy: 0.8163\n",
            "Epoch 8/50\n",
            "686/686 - 49s - loss: 0.1730 - accuracy: 0.9446 - val_loss: 0.7018 - val_accuracy: 0.8174\n",
            "Epoch 9/50\n",
            "686/686 - 49s - loss: 0.1393 - accuracy: 0.9554 - val_loss: 0.7938 - val_accuracy: 0.8280\n",
            "Epoch 10/50\n",
            "686/686 - 49s - loss: 0.1124 - accuracy: 0.9622 - val_loss: 0.8423 - val_accuracy: 0.8252\n",
            "Epoch 11/50\n",
            "686/686 - 49s - loss: 0.0964 - accuracy: 0.9679 - val_loss: 0.8982 - val_accuracy: 0.8280\n",
            "Epoch 12/50\n",
            "686/686 - 49s - loss: 0.0752 - accuracy: 0.9754 - val_loss: 0.9185 - val_accuracy: 0.8296\n",
            "Epoch 13/50\n",
            "686/686 - 49s - loss: 0.0700 - accuracy: 0.9782 - val_loss: 0.9409 - val_accuracy: 0.8283\n",
            "Epoch 14/50\n",
            "686/686 - 49s - loss: 0.0550 - accuracy: 0.9816 - val_loss: 1.0669 - val_accuracy: 0.8241\n",
            "Epoch 15/50\n",
            "686/686 - 49s - loss: 0.0496 - accuracy: 0.9839 - val_loss: 1.1173 - val_accuracy: 0.8252\n",
            "Epoch 16/50\n",
            "686/686 - 49s - loss: 0.0507 - accuracy: 0.9837 - val_loss: 1.1281 - val_accuracy: 0.8234\n",
            "Epoch 17/50\n",
            "686/686 - 49s - loss: 0.0349 - accuracy: 0.9890 - val_loss: 1.1954 - val_accuracy: 0.8228\n",
            "Epoch 18/50\n",
            "686/686 - 49s - loss: 0.0344 - accuracy: 0.9893 - val_loss: 1.2647 - val_accuracy: 0.8307\n",
            "Epoch 19/50\n",
            "686/686 - 49s - loss: 0.0320 - accuracy: 0.9903 - val_loss: 1.2117 - val_accuracy: 0.8232\n",
            "Epoch 20/50\n",
            "686/686 - 49s - loss: 0.0271 - accuracy: 0.9917 - val_loss: 1.2815 - val_accuracy: 0.8238\n",
            "Epoch 21/50\n",
            "686/686 - 49s - loss: 0.0267 - accuracy: 0.9918 - val_loss: 1.3595 - val_accuracy: 0.8247\n",
            "Epoch 22/50\n",
            "686/686 - 49s - loss: 0.0285 - accuracy: 0.9909 - val_loss: 1.2710 - val_accuracy: 0.8400\n",
            "Epoch 23/50\n",
            "686/686 - 49s - loss: 0.0205 - accuracy: 0.9936 - val_loss: 1.3755 - val_accuracy: 0.8325\n",
            "Epoch 24/50\n",
            "686/686 - 49s - loss: 0.0133 - accuracy: 0.9965 - val_loss: 1.4480 - val_accuracy: 0.8331\n",
            "Epoch 25/50\n",
            "686/686 - 49s - loss: 0.0257 - accuracy: 0.9931 - val_loss: 1.3672 - val_accuracy: 0.8280\n",
            "Epoch 26/50\n",
            "686/686 - 49s - loss: 0.0242 - accuracy: 0.9927 - val_loss: 1.3653 - val_accuracy: 0.8256\n",
            "Epoch 27/50\n",
            "686/686 - 49s - loss: 0.0178 - accuracy: 0.9953 - val_loss: 1.4644 - val_accuracy: 0.8331\n",
            "Epoch 28/50\n",
            "686/686 - 49s - loss: 0.0136 - accuracy: 0.9959 - val_loss: 1.4415 - val_accuracy: 0.8321\n",
            "Epoch 29/50\n",
            "686/686 - 49s - loss: 0.0108 - accuracy: 0.9965 - val_loss: 1.6412 - val_accuracy: 0.8325\n",
            "Epoch 30/50\n",
            "686/686 - 49s - loss: 0.0163 - accuracy: 0.9951 - val_loss: 1.5005 - val_accuracy: 0.8292\n",
            "Epoch 31/50\n",
            "686/686 - 49s - loss: 0.0142 - accuracy: 0.9951 - val_loss: 1.6045 - val_accuracy: 0.8285\n",
            "Epoch 32/50\n",
            "686/686 - 49s - loss: 0.0117 - accuracy: 0.9964 - val_loss: 1.6301 - val_accuracy: 0.8321\n",
            "Epoch 33/50\n",
            "686/686 - 49s - loss: 0.0085 - accuracy: 0.9974 - val_loss: 1.7042 - val_accuracy: 0.8230\n",
            "Epoch 34/50\n",
            "686/686 - 49s - loss: 0.0119 - accuracy: 0.9967 - val_loss: 1.6284 - val_accuracy: 0.8303\n",
            "Epoch 35/50\n",
            "686/686 - 49s - loss: 0.0143 - accuracy: 0.9963 - val_loss: 1.6231 - val_accuracy: 0.8254\n",
            "Epoch 36/50\n",
            "686/686 - 49s - loss: 0.0157 - accuracy: 0.9956 - val_loss: 1.4390 - val_accuracy: 0.8320\n",
            "Epoch 37/50\n",
            "686/686 - 49s - loss: 0.0076 - accuracy: 0.9977 - val_loss: 1.6690 - val_accuracy: 0.8309\n",
            "Epoch 38/50\n",
            "686/686 - 49s - loss: 0.0134 - accuracy: 0.9967 - val_loss: 1.5670 - val_accuracy: 0.8256\n",
            "Epoch 39/50\n",
            "686/686 - 49s - loss: 0.0121 - accuracy: 0.9965 - val_loss: 1.6416 - val_accuracy: 0.8309\n",
            "Epoch 40/50\n",
            "686/686 - 49s - loss: 0.0060 - accuracy: 0.9985 - val_loss: 1.6845 - val_accuracy: 0.8301\n",
            "Epoch 41/50\n",
            "686/686 - 49s - loss: 0.0090 - accuracy: 0.9976 - val_loss: 1.6949 - val_accuracy: 0.8309\n",
            "Epoch 42/50\n",
            "686/686 - 49s - loss: 0.0034 - accuracy: 0.9990 - val_loss: 1.8661 - val_accuracy: 0.8287\n",
            "Epoch 43/50\n",
            "686/686 - 49s - loss: 0.0023 - accuracy: 0.9995 - val_loss: 1.9672 - val_accuracy: 0.8309\n",
            "Epoch 44/50\n",
            "686/686 - 49s - loss: 0.0140 - accuracy: 0.9958 - val_loss: 1.8094 - val_accuracy: 0.8230\n",
            "Epoch 45/50\n",
            "686/686 - 49s - loss: 0.0174 - accuracy: 0.9950 - val_loss: 1.6472 - val_accuracy: 0.8281\n",
            "Epoch 46/50\n",
            "686/686 - 49s - loss: 0.0087 - accuracy: 0.9973 - val_loss: 1.7266 - val_accuracy: 0.8334\n",
            "Epoch 47/50\n",
            "686/686 - 49s - loss: 0.0038 - accuracy: 0.9990 - val_loss: 1.8120 - val_accuracy: 0.8338\n",
            "Epoch 48/50\n",
            "686/686 - 49s - loss: 0.0066 - accuracy: 0.9980 - val_loss: 1.8009 - val_accuracy: 0.8325\n",
            "Epoch 49/50\n",
            "686/686 - 49s - loss: 0.0080 - accuracy: 0.9976 - val_loss: 1.8541 - val_accuracy: 0.8305\n",
            "Epoch 50/50\n",
            "686/686 - 49s - loss: 0.0067 - accuracy: 0.9979 - val_loss: 1.8772 - val_accuracy: 0.8214\n"
          ],
          "name": "stdout"
        }
      ]
    },
    {
      "cell_type": "code",
      "metadata": {
        "id": "w4JlrKlNcCyh",
        "colab": {
          "base_uri": "https://localhost:8080/",
          "height": 294
        },
        "outputId": "fdfaed00-b207-4c9d-b40c-475cb8f76c29"
      },
      "source": [
        "# plot akurasi\n",
        "\n",
        "import matplotlib.pyplot as plt\n",
        "plt.plot(hist.history['accuracy'])\n",
        "plt.plot(hist.history['val_accuracy'])\n",
        "plt.title('Model Accuracy')\n",
        "plt.ylabel('accuracy')\n",
        "plt.xlabel('epoch')\n",
        "plt.legend(['train', 'validation'], loc='upper left')\n",
        "plt.show()"
      ],
      "execution_count": 35,
      "outputs": [
        {
          "output_type": "display_data",
          "data": {
            "image/png": "[encoded data removed]",
            "text/plain": [
              "<Figure size 432x288 with 1 Axes>"
            ]
          },
          "metadata": {
            "tags": [],
            "needs_background": "light"
          }
        }
      ]
    },
    {
      "cell_type": "code",
      "metadata": {
        "colab": {
          "base_uri": "https://localhost:8080/",
          "height": 294
        },
        "id": "SDs5wFdO9Mgy",
        "outputId": "37de78f8-0414-45ca-9bcc-c973e21f394f"
      },
      "source": [
        "# plot loss\n",
        "plt.plot(hist.history['loss'])\n",
        "plt.plot(hist.history['val_loss'])\n",
        "plt.title('Model Loss')\n",
        "plt.ylabel('loss')\n",
        "plt.xlabel('epoch')\n",
        "plt.legend(['train', 'validation'], loc='upper left')\n",
        "plt.show()"
      ],
      "execution_count": 36,
      "outputs": [
        {
          "output_type": "display_data",
          "data": {
            "image/png": "[encoded data removed]",
            "text/plain": [
              "<Figure size 432x288 with 1 Axes>"
            ]
          },
          "metadata": {
            "tags": [],
            "needs_background": "light"
          }
        }
      ]
    },
    {
      "cell_type": "code",
      "metadata": {
        "id": "ervYWj069meR"
      },
      "source": [
        ""
      ],
      "execution_count": null,
      "outputs": []
    }
  ]
}